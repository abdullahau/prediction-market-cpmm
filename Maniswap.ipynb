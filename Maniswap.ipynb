{
 "cells": [
  {
   "cell_type": "markdown",
   "metadata": {},
   "source": [
    "### Imports"
   ]
  },
  {
   "cell_type": "code",
   "execution_count": 2,
   "metadata": {},
   "outputs": [],
   "source": [
    "import math, requests, json"
   ]
  },
  {
   "cell_type": "markdown",
   "metadata": {},
   "source": [
    "### Constants"
   ]
  },
  {
   "cell_type": "code",
   "execution_count": 31,
   "metadata": {},
   "outputs": [],
   "source": [
    "# Constants\n",
    "TWOMBA_ENABLED = True \n",
    "TAKER_FEE_CONSTANT = 0.00 # Updated from 0.07 - fee-less\n",
    "CREATORS_EARN_WHOLE_FEE_UP_TO = 1000\n",
    "MAX_CPMM_PROB = 0.99\n",
    "MIN_CPMM_PROB = 0.01\n",
    "\n",
    "# Flat fees\n",
    "FLAT_TRADE_FEE = 0.1\n",
    "FLAT_COMMENT_FEE = 1\n",
    "\n",
    "DPM_PLATFORM_FEE = 0.0\n",
    "DPM_CREATOR_FEE = 0.0\n",
    "DPM_FEES = DPM_PLATFORM_FEE + DPM_CREATOR_FEE\n",
    "\n",
    "# Math\n",
    "EPSILON = 0.00000001\n",
    "\n",
    "def floatingEqual(a: float, b: float, epsilon = EPSILON) -> bool:\n",
    "    return abs(a - b) < epsilon\n",
    "\n",
    "def floatingGreater(a: float, b: float, epsilon = EPSILON) -> bool:\n",
    "    return a - epsilon > b\n",
    "\n",
    "def floatingGreaterEqual(a: float, b: float, epsilon = EPSILON) -> bool:\n",
    "    return a + epsilon >= b\n",
    "\n",
    "def floatingLesserEqual(a: float, b: float, epsilon = EPSILON) -> bool:\n",
    "    return a - epsilon <= b\n",
    "\n",
    "def logInterpolation(min: float, max: float, value: float) -> float:\n",
    "    if value <= min:\n",
    "        return 0\n",
    "    if value >= max:\n",
    "        return 1\n",
    "    \n",
    "    return math.log(value - min + 1) / math.log(max - min + 1)\n",
    "\n",
    "def logit(x: float):\n",
    "    return math.log(x / (1 - x))\n"
   ]
  },
  {
   "cell_type": "markdown",
   "metadata": {},
   "source": [
    "### Calculate Fees"
   ]
  },
  {
   "cell_type": "code",
   "execution_count": 32,
   "metadata": {},
   "outputs": [],
   "source": [
    "class Fees:\n",
    "    def __init__(self, creatorFee=0, platformFee=0, liquidityFee=0):\n",
    "        self.creatorFee = creatorFee\n",
    "        self.platformFee = platformFee\n",
    "        self.liquidityFee = liquidityFee\n",
    "    \n",
    "    def __repr__(self):\n",
    "        return f\"Fees(creatorFee={self.creatorFee}, platformFee={self.platformFee}, liquidityFee={self.liquidityFee})\"\n",
    "    \n",
    "    def add(self, other):\n",
    "        return Fees(\n",
    "            self.creatorFee + other.creatorFee,\n",
    "            self.platformFee + other.platformFee,\n",
    "            self.liquidityFee + other.liquidityFee\n",
    "        )\n",
    "\n",
    "def addObjects(obj1, obj2):\n",
    "    return obj1.add(obj2)\n",
    "\n",
    "def getTakerFee(shares: float, prob: float) -> float:\n",
    "    return TAKER_FEE_CONSTANT * prob * (1 - prob) * shares\n",
    "\n",
    "def getFeesSplit(totalFees, previouslyCollectedFees: Fees) -> Fees:\n",
    "    if TWOMBA_ENABLED:\n",
    "        return Fees(0, totalFees, 0)\n",
    "    \n",
    "    before1k = max(0, CREATORS_EARN_WHOLE_FEE_UP_TO - previouslyCollectedFees.creatorFee)\n",
    "    allToCreatorAmount = min(totalFees, before1k)\n",
    "    splitWithCreatorAmount = totalFees - allToCreatorAmount\n",
    "    \n",
    "    return Fees(\n",
    "        creatorFee = allToCreatorAmount + splitWithCreatorAmount * 0.5,\n",
    "        platformFee = splitWithCreatorAmount * 0.5,\n",
    "        liquidityFee = 0\n",
    "    )\n",
    "\n",
    "def getFeeTotal(fees) -> float:\n",
    "    return fees.creatorFee + fees.platformFee + fees.liquidityFee\n",
    "\n",
    "def sumAllFees(fees_list) -> float:\n",
    "    total_fees = Fees()\n",
    "    for fee in fees_list:\n",
    "        total_fees = addObjects(total_fees, fee)\n",
    "    return getFeeTotal(total_fees)\n"
   ]
  },
  {
   "cell_type": "markdown",
   "metadata": {},
   "source": [
    "### Calculate CPMM"
   ]
  },
  {
   "cell_type": "code",
   "execution_count": 33,
   "metadata": {},
   "outputs": [],
   "source": [
    "class CpmmState:\n",
    "    def __init__(self, pool: dict[str, float], p: float, collectedFees: Fees):\n",
    "        self.pool = pool\n",
    "        self.p = p\n",
    "        self.collectedFees = collectedFees\n",
    "        \n",
    "def getCpmmProbability(pool: dict[str, float], p: float) -> float:\n",
    "    YES, NO = pool['YES'], pool['NO']\n",
    "    return (p * NO) / ((1 - p) * YES + p * NO)\n",
    "\n",
    "def getCpmmProbabilityAfterBetBeforeFees(state: CpmmState, outcome: str, bet: float) -> float:\n",
    "    pool, p = state.pool, state.p\n",
    "    shares = calculateCpmmShares(pool, p, bet, outcome)\n",
    "    YES, NO = pool['YES'], pool['NO']\n",
    "    \n",
    "    if outcome == \"YES\":\n",
    "        newY, newN = YES - shares + bet, NO + bet\n",
    "    else:\n",
    "        newY, newN = YES + bet, NO - shares + bet\n",
    "    \n",
    "    return getCpmmProbability({'YES': newY, 'NO': newN}, p)\n",
    "\n",
    "def getCpmmOutcomeProbabilityAfterBet(state: CpmmState, outcome: str, bet: float) -> float:\n",
    "    newPool = calculateCpmmPurchase(state, bet, outcome)[1]\n",
    "    p = getCpmmProbability(newPool, state.p)\n",
    "    if outcome == 'NO':\n",
    "        return 1 - p\n",
    "    else:\n",
    "        return p\n",
    "\n",
    "# before liquidty fee\n",
    "def calculateCpmmShares(pool: dict[str, float], p: float, betAmount: float, betChoice: str) -> float:\n",
    "    if betAmount == 0:\n",
    "        return 0\n",
    "    \n",
    "    YES, NO = pool['YES'], pool['NO']\n",
    "    k = (YES ** p) * (NO ** (1 - p))\n",
    "    \n",
    "    # https://www.wolframalpha.com/input?i=%28y%2Bb-s%29%5E%28p%29*%28n%2Bb%29%5E%281-p%29+%3D+k%2C+solve+s\n",
    "    if betChoice == 'YES':\n",
    "        return YES + betAmount - (k * (betAmount + NO) ** (p - 1)) ** (1 / p)\n",
    "    elif betChoice == 'NO':\n",
    "        return NO + betAmount - (k * (betAmount + YES) ** -p) ** (1 / (1 - p))\n",
    "\n",
    "def getCpmmFees(state: CpmmState, betAmount: float, outcome: str) -> tuple:\n",
    "    fee = 0\n",
    "    for _ in range(10):\n",
    "        if betAmount == 0:\n",
    "            break\n",
    "        betAmountAfterFee = betAmount - fee\n",
    "        shares = calculateCpmmShares(state.pool, state.p, betAmountAfterFee, outcome)\n",
    "        averageProb = betAmountAfterFee / shares\n",
    "        fee = getTakerFee(shares, averageProb)\n",
    "    \n",
    "    totalFees = 0 if betAmount == 0 else fee\n",
    "    fees = getFeesSplit(totalFees, state.collectedFees)\n",
    "    remainingBet = betAmount - totalFees\n",
    "    \n",
    "    return remainingBet, totalFees, fees\n",
    "\n",
    "def calculateCpmmSharesAfterFee(state: CpmmState, bet: float, outcome: str) -> float:\n",
    "    pool, p = state.pool, state.p\n",
    "    remainingBet = getCpmmFees(state, bet, outcome)[0]\n",
    "    \n",
    "    return calculateCpmmShares(pool, p, remainingBet, outcome)\n",
    "\n",
    "def calculateCpmmPurchase(state: CpmmState, bet: float, outcome: str, freeFees:bool=False) -> tuple:\n",
    "    pool, p = state.pool, state.p\n",
    "    remainingBet, fees = (bet, Fees()) if freeFees else (getCpmmFees(state, bet, outcome)[0], getCpmmFees(state, bet, outcome)[2])\n",
    "    \n",
    "    shares = calculateCpmmShares(pool, p, remainingBet, outcome)\n",
    "    YES, NO = pool['YES'], pool['NO']\n",
    "    \n",
    "    fee = fees.liquidityFee \n",
    "    \n",
    "    if outcome == 'YES':\n",
    "        newY, newN = YES - shares + remainingBet + fee, NO + remainingBet + fee\n",
    "    else:\n",
    "        newY, newN = YES + remainingBet + fee, NO - shares + remainingBet + fee    \n",
    "    \n",
    "    postBetPool = {'YES': newY, 'NO': newN}\n",
    "\n",
    "    newPool, newP = addCpmmLiquidity(postBetPool, p, fee)[0], addCpmmLiquidity(postBetPool, p, fee)[2]\n",
    "    \n",
    "    return shares, newPool, newP, fees\n",
    "\n",
    "def calculateCpmmAmountToProb(state: CpmmState, prob: float, outcome: str) -> float:\n",
    "    if prob <= 0 or prob >= 1 or math.isnan(prob):\n",
    "        return float('inf')\n",
    "    if outcome == 'NO':\n",
    "        prob = 1 - prob\n",
    "    \n",
    "    pool, p = state.pool, state.p\n",
    "    YES, NO = pool['YES'], pool['NO']\n",
    "    k = YES ** p * NO ** (1 - p)\n",
    "    # https://www.wolframalpha.com/input?i=-1+%2B+t+-+((-1+%2B+p)+t+(k%2F(n+%2B+b))^(1%2Fp))%2Fp+solve+b\n",
    "    if outcome == 'YES':\n",
    "        ((p * (prob - 1)) / ((p - 1) * prob)) ** -p * (k - NO * ((p * (prob - 1)) / ((p - 1) * prob)) ** p)\n",
    "    else:\n",
    "        (((1 - p) * (prob - 1)) / (-p * prob)) ** (p - 1) * (k - YES * (((1 - p) * (prob - 1)) / (-p * prob)) ** (1 - p))\n",
    "\n",
    "def calculateCpmmAmountToProbIncludingFees(state: CpmmState, prob: float, outcome: str) -> float:\n",
    "    amount = calculateCpmmAmountToProb(state, prob, outcome)\n",
    "    shares = calculateCpmmShares(state.pool, state.p, amount, outcome)\n",
    "    averageProb = amount / shares\n",
    "    fees = getTakerFee(shares, averageProb)\n",
    "    return amount + fees\n",
    "\n",
    "def calculateCpmmAmountToBuySharesFixedP(state: CpmmState, shares: float, outcome: str) -> float:\n",
    "    if not floatingEqual(state.p, 0.5):\n",
    "        raise ValueError(f\"calculateAmountToBuySharesFixedP only works for p = 0.5, got {state.p}\")\n",
    "    \n",
    "    YES, NO = state.pool['YES'], state.pool['NO']\n",
    "    # https://www.wolframalpha.com/input?i=%28y%2Bb-s%29%5E0.5+*+%28n%2Bb%29%5E0.5+%3D+y+%5E+0.5+*+n+%5E+0.5%2C+solve+b\n",
    "    if outcome == 'YES':\n",
    "        return (shares - YES - NO + math.sqrt(4 * NO * shares + (YES + NO - shares) ** 2)) / 2\n",
    "    else:\n",
    "        return (shares - YES - NO + math.sqrt(4 * YES * shares + (YES + NO - shares) ** 2)) / 2\n",
    "    \n",
    "# Faster version assuming p = 0.5\n",
    "def calculateAmountToBuySharesFixedP(state: CpmmState, shares: float, outcome: str, unfilledBets):\n",
    "    pass\n",
    "\n",
    "def getCpmmLiquidity(pool: dict[str, float], p: float) -> float:\n",
    "    YES, NO = pool['YES'], pool['NO']\n",
    "    return (YES ** p) * (NO ** (1 - p))\n",
    "\n",
    "def addCpmmLiquidity(pool: dict[str, float], p: float, amount: float) -> tuple:\n",
    "    prob = getCpmmProbability(pool, p)\n",
    "    \n",
    "    # https://www.wolframalpha.com/input?i=p%28n%2Bb%29%2F%28%281-p%29%28y%2Bb%29%2Bp%28n%2Bb%29%29%3Dq%2C+solve+p\n",
    "    YES, NO = pool['YES'], pool['NO']\n",
    "    numerator = prob * (amount + YES)\n",
    "    denominator = amount - NO * (prob - 1) + prob * YES\n",
    "    newP = numerator / denominator\n",
    "    newPool = {'YES': YES + amount, 'NO': NO + amount}\n",
    "    \n",
    "    oldLiquidity = getCpmmLiquidity(pool, newP)\n",
    "    newLiquidity = getCpmmLiquidity(newPool, newP)\n",
    "    liquidity = newLiquidity - oldLiquidity\n",
    "    \n",
    "    return newPool, liquidity, newP\n"
   ]
  },
  {
   "cell_type": "markdown",
   "metadata": {},
   "source": [
    "### Calculate Multi CPMM"
   ]
  },
  {
   "cell_type": "code",
   "execution_count": 34,
   "metadata": {},
   "outputs": [],
   "source": [
    "def getK(pool: dict[str, float]) -> float:\n",
    "    values = pool.values()\n",
    "    return sum(map(math.log, values))\n",
    "\n",
    "def getLiquidity(pool: dict[str, float]):\n",
    "    return math.exp(getK(pool) / len(pool))"
   ]
  },
  {
   "cell_type": "markdown",
   "metadata": {},
   "source": [
    "### New Bet"
   ]
  },
  {
   "cell_type": "code",
   "execution_count": 35,
   "metadata": {},
   "outputs": [],
   "source": [
    "def computeFill():\n",
    "  pass\n",
    "\n",
    "def computeFills():\n",
    "  pass\n",
    "\n",
    "def computeCpmmBet():\n",
    "  pass\n",
    "\n",
    "# limitProb"
   ]
  },
  {
   "cell_type": "markdown",
   "metadata": {},
   "source": [
    "### Elasticity"
   ]
  },
  {
   "cell_type": "code",
   "execution_count": 9,
   "metadata": {},
   "outputs": [],
   "source": [
    "ELASTICITY_BET_AMOUNT = 10_000 # readjust with platform volume\n",
    "\n",
    "# totalLiquidity = ante\n",
    "\n",
    "def computeBinaryCpmmElasticityFromAnte(ante: float, betAmount = ELASTICITY_BET_AMOUNT) -> float:\n",
    "  pool = {'YES': ante, 'NO': ante}\n",
    "  p = 0.5 # neutral probability\n",
    "  state = CpmmState(pool, p, Fees())\n",
    "  \n",
    "  yesOutcome = calculateCpmmPurchase(state, betAmount, 'YES', freeFees=True)\n",
    "  poolY, pY = yesOutcome[1], yesOutcome[2]\n",
    "  resultYes = getCpmmProbability(poolY, pY)\n",
    "  \n",
    "  noOutcome = calculateCpmmPurchase(state, betAmount, 'NO', freeFees=True)\n",
    "  poolN, pN = noOutcome[1], noOutcome[2]\n",
    "  resultNo = getCpmmProbability(poolN, pN)\n",
    "  \n",
    "  return logit(resultYes) - logit(resultNo)  \n",
    "\n",
    "def computeBinaryCpmmElasticity(state: CpmmState, betAmount: float = ELASTICITY_BET_AMOUNT) -> float:\n",
    "  yesOutcome = calculateCpmmPurchase(state, betAmount, 'YES', freeFees=True)\n",
    "  poolY, pY = yesOutcome[1], yesOutcome[2]\n",
    "  resultYes = getCpmmProbability(poolY, pY)\n",
    "  \n",
    "  noOutcome = calculateCpmmPurchase(state, betAmount, 'NO', freeFees=True)\n",
    "  poolN, pN = noOutcome[1], noOutcome[2]\n",
    "  resultNo = getCpmmProbability(poolN, pN)\n",
    "  \n",
    "  resultYes = min(resultYes, 0.995)\n",
    "  resultNo = max(resultNo, 0.005)\n",
    "  \n",
    "  return logit(resultYes) - logit(resultNo)  \n",
    "  \n"
   ]
  },
  {
   "cell_type": "markdown",
   "metadata": {},
   "source": [
    "### Test CPMM"
   ]
  },
  {
   "cell_type": "code",
   "execution_count": 10,
   "metadata": {},
   "outputs": [
    {
     "data": {
      "text/plain": [
       "0.5"
      ]
     },
     "execution_count": 10,
     "metadata": {},
     "output_type": "execute_result"
    }
   ],
   "source": [
    "pool = {'YES': 100, 'NO': 100}\n",
    "p = 0.5\n",
    "getCpmmProbability(pool, p)"
   ]
  },
  {
   "cell_type": "code",
   "execution_count": 11,
   "metadata": {},
   "outputs": [
    {
     "data": {
      "text/plain": [
       "0.25"
      ]
     },
     "execution_count": 11,
     "metadata": {},
     "output_type": "execute_result"
    }
   ],
   "source": [
    "pool = {'YES': 150, 'NO': 50}\n",
    "p = 0.5\n",
    "getCpmmProbability(pool, p)"
   ]
  },
  {
   "cell_type": "code",
   "execution_count": 12,
   "metadata": {},
   "outputs": [
    {
     "name": "stdout",
     "output_type": "stream",
     "text": [
      "9.99999000001e-07\n",
      "True\n",
      "True\n",
      "0.999999000001\n",
      "True\n",
      "True\n",
      "9.999010098000296e-05\n",
      "True\n",
      "True\n",
      "0.9999999899999902\n",
      "True\n",
      "True\n"
     ]
    }
   ],
   "source": [
    "pools = [{'YES': 1000000, 'NO': 1},\n",
    "         {'YES': 1, 'NO': 1000000},\n",
    "         {'YES': 1, 'NO': 100},\n",
    "         {'YES': 1, 'NO': 100}]\n",
    "\n",
    "p = [0.5, 0.5, 0.000001, 0.999999]\n",
    "\n",
    "for i in range(len(pools)):\n",
    "  prob = getCpmmProbability(pools[i], p[i])\n",
    "  print(prob)\n",
    "  print(prob > 0)\n",
    "  print(prob < 1)\n",
    "  "
   ]
  },
  {
   "cell_type": "code",
   "execution_count": 13,
   "metadata": {},
   "outputs": [
    {
     "data": {
      "text/plain": [
       "0"
      ]
     },
     "execution_count": 13,
     "metadata": {},
     "output_type": "execute_result"
    }
   ],
   "source": [
    "pool = {'YES': 100, 'NO': 100}\n",
    "p = 0.5\n",
    "betAmount = 0\n",
    "betChoice = 'YES'\n",
    "\n",
    "calculateCpmmShares(pool, p, betAmount, betChoice)"
   ]
  },
  {
   "cell_type": "code",
   "execution_count": 14,
   "metadata": {},
   "outputs": [
    {
     "data": {
      "text/plain": [
       "19.090909090909065"
      ]
     },
     "execution_count": 14,
     "metadata": {},
     "output_type": "execute_result"
    }
   ],
   "source": [
    "pool = {'YES': 100, 'NO': 100}\n",
    "p = 0.5\n",
    "betAmount = 10\n",
    "betChoice = 'YES'\n",
    "\n",
    "calculateCpmmShares(pool, p, betAmount, betChoice)"
   ]
  },
  {
   "cell_type": "code",
   "execution_count": 15,
   "metadata": {},
   "outputs": [
    {
     "name": "stdout",
     "output_type": "stream",
     "text": [
      "newPool['YES'] = 95.38819365450188\n",
      "newPool['NO'] = 104.8347768930421\n"
     ]
    }
   ],
   "source": [
    "pool = {'YES': 100, 'NO': 100}\n",
    "p = 0.5\n",
    "initialState = CpmmState(pool, p, Fees())\n",
    "\n",
    "newPool = calculateCpmmPurchase(initialState, 5, 'YES')[1]\n",
    "\n",
    "print(f'{newPool['YES'] = }')\n",
    "print(f'{newPool['NO'] = }')"
   ]
  },
  {
   "cell_type": "code",
   "execution_count": 16,
   "metadata": {},
   "outputs": [
    {
     "name": "stdout",
     "output_type": "stream",
     "text": [
      "newPool['YES'] = 104.8347768930421\n",
      "newPool['NO'] = 95.38819365450188\n"
     ]
    }
   ],
   "source": [
    "pool = {'YES': 100, 'NO': 100}\n",
    "p = 0.5\n",
    "initialState = CpmmState(pool, p, Fees())\n",
    "\n",
    "newPool = calculateCpmmPurchase(initialState, 5, 'NO')[1]\n",
    "\n",
    "print(f'{newPool['YES'] = }')\n",
    "print(f'{newPool['NO'] = }')"
   ]
  },
  {
   "cell_type": "code",
   "execution_count": 17,
   "metadata": {},
   "outputs": [
    {
     "name": "stdout",
     "output_type": "stream",
     "text": [
      "10000.0\n",
      "10000.0\n",
      "{'YES': 109.67693839261675, 'NO': 91.17687042103996}\n"
     ]
    }
   ],
   "source": [
    "pool = {'YES': 100.0, 'NO': 100.0}\n",
    "p = 0.5\n",
    "initialState = CpmmState(pool, p, Fees())\n",
    "\n",
    "newPool = calculateCpmmPurchase(initialState, 10, 'NO')[1]\n",
    "\n",
    "initalProduct = initialState.pool['YES'] * initialState.pool['NO']\n",
    "newProduct = newPool['YES'] * newPool['NO']\n",
    "\n",
    "print(initalProduct)\n",
    "print(newProduct)\n",
    "print(newPool)"
   ]
  },
  {
   "cell_type": "code",
   "execution_count": 18,
   "metadata": {},
   "outputs": [
    {
     "name": "stdout",
     "output_type": "stream",
     "text": [
      "0.5460535652294758\n"
     ]
    }
   ],
   "source": [
    "pool = {'YES': 100.0, 'NO': 100.0}\n",
    "p = 0.5\n",
    "initialState = CpmmState(pool, p, Fees())\n",
    "\n",
    "newProb = getCpmmOutcomeProbabilityAfterBet(initialState, 'YES', 10)\n",
    "print(newProb)"
   ]
  },
  {
   "cell_type": "code",
   "execution_count": 19,
   "metadata": {},
   "outputs": [
    {
     "name": "stdout",
     "output_type": "stream",
     "text": [
      "0.5460535652294758\n",
      "0.4539464347705242\n"
     ]
    }
   ],
   "source": [
    "pool = {'YES': 100.0, 'NO': 100.0}\n",
    "p = 0.5\n",
    "initialState = CpmmState(pool, p, Fees())\n",
    "\n",
    "newProb = getCpmmOutcomeProbabilityAfterBet(initialState, 'NO', 10)\n",
    "print(newProb) # probability of no\n",
    "print(1 - newProb) # probability of yes"
   ]
  },
  {
   "cell_type": "code",
   "execution_count": 20,
   "metadata": {},
   "outputs": [
    {
     "name": "stdout",
     "output_type": "stream",
     "text": [
      "0.5\n"
     ]
    }
   ],
   "source": [
    "pool = {'YES': 100.0, 'NO': 100.0}\n",
    "p = 0.5\n",
    "initialState = CpmmState(pool, p, Fees())\n",
    "\n",
    "newProb = getCpmmOutcomeProbabilityAfterBet(initialState, 'YES', 0)\n",
    "print(newProb)"
   ]
  },
  {
   "cell_type": "code",
   "execution_count": 21,
   "metadata": {},
   "outputs": [
    {
     "name": "stdout",
     "output_type": "stream",
     "text": [
      "110.0\n",
      "110.0\n",
      "10.0\n"
     ]
    }
   ],
   "source": [
    "pool = {'YES': 100.0, 'NO': 100.0}\n",
    "p = 0.5\n",
    "amount = 10\n",
    "\n",
    "cpmmLiquidity = addCpmmLiquidity(pool, p, amount)\n",
    "\n",
    "newPool, liquidity = cpmmLiquidity[0], cpmmLiquidity[1]\n",
    "\n",
    "print(newPool['YES'])\n",
    "print(newPool['NO'])\n",
    "print(liquidity)"
   ]
  },
  {
   "cell_type": "code",
   "execution_count": 22,
   "metadata": {},
   "outputs": [
    {
     "name": "stdout",
     "output_type": "stream",
     "text": [
      "0.25\n",
      "0.25000000000000006\n"
     ]
    }
   ],
   "source": [
    "pool = {'YES': 150.0, 'NO': 50.0}\n",
    "p = 0.5\n",
    "amount = 20\n",
    "\n",
    "initialProb = getCpmmProbability(pool, p)\n",
    "cpmmLiquidity = addCpmmLiquidity(pool, p, amount)\n",
    "newPool, newP = cpmmLiquidity[0], cpmmLiquidity[2]\n",
    "newProb = getCpmmProbability(newPool, newP)\n",
    "\n",
    "print(initialProb)\n",
    "print(newProb)"
   ]
  },
  {
   "cell_type": "markdown",
   "metadata": {},
   "source": [
    "### Test Cases"
   ]
  },
  {
   "cell_type": "markdown",
   "metadata": {},
   "source": [
    "- **Manifold API**: https://docs.manifold.markets/api\n",
    "- **GET request URL**: https://api.manifold.markets/v0\n",
    "- **GET by market slug**: https://manifold.markets/api/v0/slug/\n",
    "- **GET by market ID**: https://api.manifold.markets/v0/market/\n",
    "- **GET bets**: https://api.manifold.markets/v0/bets/\n",
    "- **p**: This is the probability around which the market liquidity is \"centered'. Probability constant in $y^{p}n^{1-p} = k$"
   ]
  },
  {
   "cell_type": "code",
   "execution_count": 36,
   "metadata": {},
   "outputs": [
    {
     "name": "stdout",
     "output_type": "stream",
     "text": [
      "n = 11977.29597826031\n",
      "y = 8120.5998670444205\n",
      "prob = 0.6208553075162113\n",
      "p = 0.5261190329786608\n",
      "liquidity = 10000\n",
      "volume = 2341292.737688623\n",
      "k = 9762.5960566133\n",
      "Number of Bets = 7478\n",
      "\n",
      "creatorFee = 2521.000760571361\n",
      "platformFee = 2301.104940551263\n",
      "liquidityFee = 0\n",
      "\n",
      "newProb = 0.65601718813302\n",
      "totalFees = 0.0\n",
      "maxPayout = 1565.843193626607\n",
      "0.3974799624330091\n"
     ]
    }
   ],
   "source": [
    "# Will Andrew Tate be found guilty of human (sex) trafficking?\n",
    "\n",
    "id = \"G6Lj2ccHZyp8aHzwVchb\"\n",
    "slug = \"will-andrew-tate-be-found-guilty-of\"\n",
    "\n",
    "rooturl = \"https://api.manifold.markets/v0/market/\"\n",
    "data = requests.get(rooturl + id).json()\n",
    "\n",
    "n = data['pool']['NO']\n",
    "y = data['pool']['YES']\n",
    "prob = data['probability']\n",
    "p = data['p']\n",
    "liquidity = data['totalLiquidity']\n",
    "volume = data['volume']\n",
    "\n",
    "print(f'{n = }\\n{y = }\\n{prob = }\\n{p = }\\n{liquidity = }\\n{volume = }')\n",
    "\n",
    "k = (y**p) * (n**(1 - p))\n",
    "print(f'{k = }') \n",
    "\n",
    "betsURL = \"https://api.manifold.markets/v0/bets?contractId=\"\n",
    "betsData = requests.get(betsURL+id).json()\n",
    "\n",
    "creatorFee = 0\n",
    "platformFee = 0\n",
    "liquidityFee = 0\n",
    "trades = []\n",
    "for i in betsData:\n",
    "    if i['isCancelled'] != None:\n",
    "        trades.append(i)\n",
    "    creatorFee += i['fees']['creatorFee']\n",
    "    platformFee += i['fees']['platformFee']\n",
    "    liquidityFee += i['fees']['liquidityFee']\n",
    "\n",
    "print(f'Number of Bets = {len(trades)}')\n",
    "\n",
    "print()\n",
    "print(f'{creatorFee = }\\n{platformFee = }\\n{liquidityFee = }')\n",
    "\n",
    "collectedFees = Fees(creatorFee, platformFee, liquidityFee)\n",
    "pool = {'YES': y, 'NO': n}\n",
    "state = CpmmState(pool, p, collectedFees)\n",
    "\n",
    "# New Bet\n",
    "bet = 1000\n",
    "outcome = 'YES'\n",
    "newProb = getCpmmOutcomeProbabilityAfterBet(state, outcome, bet)\n",
    "newProb = newProb if outcome == 'YES' else 1 - newProb\n",
    "totalFees = getCpmmFees(state, bet, outcome)[1]\n",
    "maxPayout = calculateCpmmSharesAfterFee(state, bet, outcome)\n",
    "print()\n",
    "print(f\"{newProb = }\\n{totalFees = }\\n{maxPayout = }\")\n",
    "\n",
    "print(computeBinaryCpmmElasticity(state, bet))"
   ]
  },
  {
   "cell_type": "code",
   "execution_count": 24,
   "metadata": {},
   "outputs": [
    {
     "name": "stdout",
     "output_type": "stream",
     "text": [
      "n = 1098.9304626378225\n",
      "y = 909.975684539353\n",
      "prob = 0.5470292697257112\n",
      "p = 0.49999999999999994\n",
      "liquidity = 1000\n",
      "volume = 200\n",
      "k = 999.9999999999999\n",
      "Number of Bets = 3\n",
      "\n",
      "creatorFee = 0\n",
      "platformFee = 6.603704976775171\n",
      "liquidityFee = 0\n",
      "\n",
      "newProb = 0.4967850338088452\n",
      "totalFees = 3.5249465770204016\n",
      "maxPayout = 201.81490871065216\n",
      "9.593052640139103\n"
     ]
    }
   ],
   "source": [
    "# Will UniCredit successfully acquire a majority stake in Commerzbank by 2025?\n",
    "\n",
    "id = \"spqjzzszu4\"\n",
    "slug = \"will-unicredit-successfully-acquire\"\n",
    "\n",
    "rooturl = \"https://api.manifold.markets/v0/market/\"\n",
    "data = requests.get(rooturl + id).json()\n",
    "\n",
    "n = data['pool']['NO']\n",
    "y = data['pool']['YES']\n",
    "prob = data['probability']\n",
    "p = data['p']\n",
    "liquidity = data['totalLiquidity']\n",
    "volume = data['volume']\n",
    "\n",
    "print(f'{n = }\\n{y = }\\n{prob = }\\n{p = }\\n{liquidity = }\\n{volume = }')\n",
    "\n",
    "k = (y**p) * (n**(1 - p))\n",
    "print(f'{k = }')\n",
    "\n",
    "betsURL = \"https://api.manifold.markets/v0/bets?contractId=\"\n",
    "betsData = requests.get(betsURL+id).json()\n",
    "\n",
    "creatorFee = 0\n",
    "platformFee = 0\n",
    "liquidityFee = 0\n",
    "trades = []\n",
    "for i in betsData:\n",
    "    if i['isCancelled'] != None:\n",
    "        trades.append(i)\n",
    "    creatorFee += i['fees']['creatorFee']\n",
    "    platformFee += i['fees']['platformFee']\n",
    "    liquidityFee += i['fees']['liquidityFee']\n",
    "\n",
    "print(f'Number of Bets = {len(trades)}')\n",
    "\n",
    "print()\n",
    "print(f'{creatorFee = }\\n{platformFee = }\\n{liquidityFee = }')\n",
    "\n",
    "collectedFees = Fees(creatorFee, platformFee, liquidityFee)\n",
    "state = CpmmState({'YES': y, 'NO': n}, p, collectedFees)\n",
    "\n",
    "# New Bet\n",
    "bet = 100\n",
    "outcome = 'NO'\n",
    "newProb = getCpmmOutcomeProbabilityAfterBet(state, outcome, bet)\n",
    "newProb = newProb if outcome == 'YES' else 1 - newProb\n",
    "totalFees = getCpmmFees(state, bet, outcome)[1]\n",
    "maxPayout = calculateCpmmSharesAfterFee(state, bet, outcome)\n",
    "print()\n",
    "print(f\"{newProb = }\\n{totalFees = }\\n{maxPayout = }\")\n",
    "\n",
    "print(computeBinaryCpmmElasticity(state))"
   ]
  },
  {
   "cell_type": "code",
   "execution_count": 11,
   "metadata": {},
   "outputs": [
    {
     "name": "stdout",
     "output_type": "stream",
     "text": [
      "n = 581.7660652638804\n",
      "y = 2962.1948186564964\n",
      "prob = 0.07337731030907553\n",
      "p = 0.2873448976738495\n",
      "liquidity = 1000\n",
      "volume = 4589.108025636279\n",
      "k = 928.6723240171632\n",
      "Number of Bets = 57\n",
      "\n",
      "creatorFee = 5.772602170741537\n",
      "platformFee = 16.271986404137195\n",
      "liquidityFee = 0\n",
      "\n",
      "newProb = 0.6974213080555609\n",
      "totalFees = 49.19456820301702\n",
      "maxPayout = 3644.9057135526145\n",
      "9.591581091193504\n"
     ]
    }
   ],
   "source": [
    "# Will the total number of Giving What We Can pledges made in 2024 be higher than in 2022?\n",
    "\n",
    "id = \"Y3lXD7s2CWFoRwHcnlm4\"\n",
    "slug = \"will-the-total-number-of-giving-wha-cc4cca3a58ce\"\n",
    "\n",
    "rooturl = \"https://api.manifold.markets/v0/market/\"\n",
    "data = requests.get(rooturl + id).json()\n",
    "\n",
    "n = data['pool']['NO']\n",
    "y = data['pool']['YES']\n",
    "prob = data['probability']\n",
    "p = data['p']\n",
    "liquidity = data['totalLiquidity']\n",
    "volume = data['volume']\n",
    "\n",
    "print(f'{n = }\\n{y = }\\n{prob = }\\n{p = }\\n{liquidity = }\\n{volume = }')\n",
    "\n",
    "k = (y**p) * (n**(1 - p))\n",
    "print(f'{k = }') \n",
    "\n",
    "betsURL = \"https://api.manifold.markets/v0/bets?contractId=\"\n",
    "betsData = requests.get(betsURL+id).json()\n",
    "\n",
    "creatorFee = 0\n",
    "platformFee = 0\n",
    "liquidityFee = 0\n",
    "trades = []\n",
    "for i in betsData:\n",
    "    if i['isCancelled'] != None:\n",
    "        trades.append(i)\n",
    "    creatorFee += i['fees']['creatorFee']\n",
    "    platformFee += i['fees']['platformFee']\n",
    "    liquidityFee += i['fees']['liquidityFee']\n",
    "\n",
    "print(f'Number of Bets = {len(trades)}')\n",
    "\n",
    "print()\n",
    "print(f'{creatorFee = }\\n{platformFee = }\\n{liquidityFee = }')\n",
    "\n",
    "collectedFees = Fees(creatorFee, platformFee, liquidityFee)\n",
    "state = CpmmState({'YES': y, 'NO': n}, p, collectedFees)\n",
    "\n",
    "# New Bet\n",
    "bet = 1000\n",
    "outcome = 'YES'\n",
    "newProb = getCpmmOutcomeProbabilityAfterBet(state, outcome, bet)\n",
    "newProb = newProb if outcome == 'YES' else 1 - newProb\n",
    "totalFees = getCpmmFees(state, bet, outcome)[1]\n",
    "maxPayout = calculateCpmmSharesAfterFee(state, bet, outcome)\n",
    "print()\n",
    "print(f\"{newProb = }\\n{totalFees = }\\n{maxPayout = }\")\n",
    "\n",
    "print(computeBinaryCpmmElasticityFromAnte(liquidity))"
   ]
  },
  {
   "cell_type": "code",
   "execution_count": 22,
   "metadata": {},
   "outputs": [
    {
     "name": "stdout",
     "output_type": "stream",
     "text": [
      "n = 840.4294249568765\n",
      "y = 1944.9930355709967\n",
      "prob = 0.09109629043902893\n",
      "p = 0.1882805892896765\n",
      "liquidity = 1000\n",
      "volume = 1948.9589602278047\n",
      "k = 984.2691189518598\n",
      "Number of Bets = 49\n",
      "\n",
      "creatorFee = 6.122965415212506\n",
      "platformFee = 3.9484740011031385\n",
      "liquidityFee = 0\n",
      "\n",
      "newProb = 0.8498559826700247\n",
      "totalFees = 44.28421369780051\n",
      "maxPayout = 2827.1044250438877\n",
      "9.829687510292292\n"
     ]
    }
   ],
   "source": [
    "# Will Vladimir Putin attend the G20 in Brazil in 2024?\n",
    "\n",
    "id = \"fN12OYGS30DGubdZuKEC\"\n",
    "slug = \"will-vladimir-putin-attend-the-g20-de36a6365070\"\n",
    "\n",
    "rooturl = \"https://api.manifold.markets/v0/market/\"\n",
    "data = requests.get(rooturl + id).json()\n",
    "\n",
    "n = data['pool']['NO']\n",
    "y = data['pool']['YES']\n",
    "prob = data['probability']\n",
    "p = data['p']\n",
    "liquidity = data['totalLiquidity']\n",
    "volume = data['volume']\n",
    "\n",
    "print(f'{n = }\\n{y = }\\n{prob = }\\n{p = }\\n{liquidity = }\\n{volume = }')\n",
    "\n",
    "k = (y**p) * (n**(1 - p))\n",
    "print(f'{k = }')\n",
    "\n",
    "betsURL = \"https://api.manifold.markets/v0/bets?contractId=\"\n",
    "betsData = requests.get(betsURL+id).json()\n",
    "\n",
    "creatorFee = 0\n",
    "platformFee = 0\n",
    "liquidityFee = 0\n",
    "trades = []\n",
    "for i in betsData:\n",
    "    if i['isCancelled'] != None:\n",
    "        trades.append(i)\n",
    "    creatorFee += i['fees']['creatorFee']\n",
    "    platformFee += i['fees']['platformFee']\n",
    "    liquidityFee += i['fees']['liquidityFee']\n",
    "\n",
    "print(f'Number of Bets = {len(trades)}')\n",
    "\n",
    "print()\n",
    "print(f'{creatorFee = }\\n{platformFee = }\\n{liquidityFee = }')\n",
    "\n",
    "collectedFees = Fees(creatorFee, platformFee, liquidityFee)\n",
    "state = CpmmState({'YES': y, 'NO': n}, p, collectedFees)\n",
    "\n",
    "# New Bet\n",
    "bet = 1000\n",
    "outcome = 'YES'\n",
    "newProb = getCpmmOutcomeProbabilityAfterBet(state, outcome, bet)\n",
    "newProb = newProb if outcome == 'YES' else 1 - newProb\n",
    "totalFees = getCpmmFees(state, bet, outcome)[1]\n",
    "maxPayout = calculateCpmmSharesAfterFee(state, bet, outcome)\n",
    "print()\n",
    "print(f\"{newProb = }\\n{totalFees = }\\n{maxPayout = }\")\n",
    "\n",
    "print(computeBinaryCpmmElasticity(state))"
   ]
  },
  {
   "cell_type": "code",
   "execution_count": null,
   "metadata": {},
   "outputs": [],
   "source": [
    "# Get all my bets\n",
    "import urllib.request\n",
    "from prettytable import PrettyTable\n",
    "\n",
    "url = \"https://api.manifold.markets/v0/bets?username=Abdullah\"\n",
    "request = urllib.request.urlopen(url)\n",
    "\n",
    "data = json.loads(request.read())\n",
    "\n",
    "header =['id', 'amount', 'shares', 'outcome', 'probBefore', 'probAfter', ]"
   ]
  },
  {
   "cell_type": "markdown",
   "metadata": {},
   "source": [
    "### Limit Order Tests"
   ]
  },
  {
   "cell_type": "code",
   "execution_count": 29,
   "metadata": {},
   "outputs": [
    {
     "name": "stdout",
     "output_type": "stream",
     "text": [
      "[{'id': 'pQB0g1MxfVdA', 'fees': {'creatorFee': 0, 'platformFee': 0, 'liquidityFee': 0}, 'fills': [], 'isApi': False, 'amount': 0, 'shares': 0, 'userId': '70F1hyNBrNRaXOO3qJUm4WthH5r1', 'outcome': 'YES', 'isFilled': False, 'limitProb': 0.6, 'probAfter': 0.6185001356212757, 'contractId': 'G6Lj2ccHZyp8aHzwVchb', 'loanAmount': 0, 'probBefore': 0.6185001356212757, 'visibility': 'public', 'createdTime': 1727575285000, 'isCancelled': False, 'orderAmount': 100, 'isRedemption': False, 'betId': 'pQB0g1MxfVdA', 'updatedTime': 1727575285000}, {'id': '18GTZoz5QaUf', 'fees': {'creatorFee': 0, 'platformFee': 0, 'liquidityFee': 0}, 'fills': [], 'isApi': False, 'amount': 0, 'shares': 0, 'userId': 'YVzDfApmf5brx6rM55gTy2CTwTD3', 'outcome': 'YES', 'isFilled': False, 'limitProb': 0.58, 'probAfter': 0.6116628001271074, 'contractId': 'G6Lj2ccHZyp8aHzwVchb', 'loanAmount': 0, 'probBefore': 0.6116628001271074, 'visibility': 'public', 'createdTime': 1727529805000, 'isCancelled': False, 'orderAmount': 29, 'isRedemption': False, 'betId': '18GTZoz5QaUf', 'updatedTime': 1727529805000}, {'id': 'bFM894KqDU4e', 'fees': {'creatorFee': 0, 'platformFee': 0, 'liquidityFee': 0}, 'fills': [], 'isApi': False, 'amount': 0, 'shares': 0, 'userId': 'YVzDfApmf5brx6rM55gTy2CTwTD3', 'outcome': 'YES', 'isFilled': False, 'limitProb': 0.58, 'probAfter': 0.5919886628070409, 'contractId': 'G6Lj2ccHZyp8aHzwVchb', 'loanAmount': 0, 'probBefore': 0.5919886628070409, 'visibility': 'public', 'createdTime': 1727453566000, 'isCancelled': False, 'orderAmount': 29, 'isRedemption': False, 'betId': 'bFM894KqDU4e', 'updatedTime': 1727453566000}, {'id': 'MsOO7BSRmz0S', 'fees': {'creatorFee': 0, 'platformFee': 0, 'liquidityFee': 0}, 'fills': [], 'isApi': False, 'amount': 0, 'shares': 0, 'userId': 'YVzDfApmf5brx6rM55gTy2CTwTD3', 'outcome': 'YES', 'isFilled': False, 'limitProb': 0.58, 'probAfter': 0.6134998597226348, 'contractId': 'G6Lj2ccHZyp8aHzwVchb', 'loanAmount': 0, 'probBefore': 0.6134998597226348, 'visibility': 'public', 'createdTime': 1726669044000, 'isCancelled': False, 'orderAmount': 29, 'isRedemption': False, 'betId': 'MsOO7BSRmz0S', 'updatedTime': 1726669044000}, {'id': '99L1HUv0yzjf', 'fees': {'creatorFee': 0, 'platformFee': 0, 'liquidityFee': 0}, 'fills': [], 'isApi': False, 'amount': 0, 'shares': 0, 'userId': 'YVzDfApmf5brx6rM55gTy2CTwTD3', 'outcome': 'YES', 'isFilled': False, 'limitProb': 0.58, 'probAfter': 0.5962981042926563, 'contractId': 'G6Lj2ccHZyp8aHzwVchb', 'loanAmount': 0, 'probBefore': 0.5962981042926563, 'visibility': 'public', 'createdTime': 1726603406000, 'isCancelled': False, 'orderAmount': 58, 'isRedemption': False, 'betId': '99L1HUv0yzjf', 'updatedTime': 1726603406000}, {'id': 'TWy0UUUDHj6M', 'fees': {'creatorFee': 0, 'platformFee': 0, 'liquidityFee': 0}, 'fills': [], 'isApi': False, 'amount': 0, 'shares': 0, 'userId': 'Gg7t9vPD4WPD1iPgj9RUFLYTxgH2', 'outcome': 'YES', 'isFilled': False, 'limitProb': 0.02, 'probAfter': 0.6548961601118264, 'contractId': 'G6Lj2ccHZyp8aHzwVchb', 'loanAmount': 0, 'probBefore': 0.6548961601118264, 'visibility': 'public', 'createdTime': 1726555759000, 'isCancelled': False, 'orderAmount': 500, 'isRedemption': False, 'betId': 'TWy0UUUDHj6M', 'updatedTime': 1726555759000}, {'id': 't9lhOSvGPVVa', 'fees': {'creatorFee': 0, 'platformFee': 0, 'liquidityFee': 0}, 'fills': [], 'isApi': False, 'amount': 0, 'shares': 0, 'userId': 'YVzDfApmf5brx6rM55gTy2CTwTD3', 'outcome': 'YES', 'isFilled': False, 'limitProb': 0.56, 'probAfter': 0.6046600786706435, 'contractId': 'G6Lj2ccHZyp8aHzwVchb', 'loanAmount': 0, 'probBefore': 0.6046600786706435, 'visibility': 'public', 'createdTime': 1726244906000, 'isCancelled': False, 'orderAmount': 56, 'isRedemption': False, 'betId': 't9lhOSvGPVVa', 'updatedTime': 1726244906000}, {'id': '2Ag7UDWvnkXH', 'fees': {'creatorFee': 0, 'platformFee': 0, 'liquidityFee': 0}, 'fills': [], 'isApi': False, 'amount': 0, 'shares': 0, 'userId': 'HSB5OZ8jBHQZZLjs9oWS7avZTqE3', 'outcome': 'YES', 'isFilled': False, 'limitProb': 0.59, 'probAfter': 0.6011985101023534, 'contractId': 'G6Lj2ccHZyp8aHzwVchb', 'loanAmount': 0, 'probBefore': 0.6011985101023534, 'visibility': 'public', 'createdTime': 1726224044000, 'isCancelled': False, 'orderAmount': 100, 'isRedemption': False, 'betId': '2Ag7UDWvnkXH', 'updatedTime': 1726224044000}, {'id': '1JLos7B5qKtn', 'fees': {'creatorFee': 0, 'platformFee': 0, 'liquidityFee': 0}, 'fills': [], 'isApi': False, 'amount': 0, 'shares': 0, 'userId': 'YVzDfApmf5brx6rM55gTy2CTwTD3', 'outcome': 'YES', 'isFilled': False, 'limitProb': 0.56, 'probAfter': 0.57633307526665, 'contractId': 'G6Lj2ccHZyp8aHzwVchb', 'loanAmount': 0, 'probBefore': 0.57633307526665, 'visibility': 'public', 'createdTime': 1726158792000, 'isCancelled': False, 'orderAmount': 56, 'isRedemption': False, 'betId': '1JLos7B5qKtn', 'updatedTime': 1726158792000}, {'id': 'aA0rruZxxEn1', 'fees': {'creatorFee': 0, 'platformFee': 0, 'liquidityFee': 0}, 'fills': [], 'isApi': False, 'amount': 0, 'shares': 0, 'userId': '1RfsLVzFZwaLLXGaSr5yaG5ink23', 'outcome': 'YES', 'isFilled': False, 'limitProb': 0.57, 'probAfter': 0.6314318163783801, 'contractId': 'G6Lj2ccHZyp8aHzwVchb', 'loanAmount': 0, 'probBefore': 0.6314318163783801, 'visibility': 'public', 'createdTime': 1726134599000, 'isCancelled': False, 'orderAmount': 500, 'isRedemption': False, 'betId': 'aA0rruZxxEn1', 'updatedTime': 1726134599000}, {'id': 'gxiX9DA4UwdR', 'fees': {'creatorFee': 0, 'platformFee': 0, 'liquidityFee': 0}, 'fills': [], 'isApi': False, 'amount': 0, 'shares': 0, 'userId': 'YVzDfApmf5brx6rM55gTy2CTwTD3', 'outcome': 'YES', 'isFilled': False, 'limitProb': 0.56, 'probAfter': 0.6678736257582527, 'contractId': 'G6Lj2ccHZyp8aHzwVchb', 'loanAmount': 0, 'probBefore': 0.6678736257582527, 'visibility': 'public', 'createdTime': 1726069250000, 'isCancelled': False, 'orderAmount': 112, 'isRedemption': False, 'betId': 'gxiX9DA4UwdR', 'updatedTime': 1726069250000}, {'id': 'dFKBSk3Togt8', 'fees': {'creatorFee': 0, 'platformFee': 0, 'liquidityFee': 0}, 'fills': [], 'isApi': False, 'amount': 0, 'shares': 0, 'userId': 'HSB5OZ8jBHQZZLjs9oWS7avZTqE3', 'outcome': 'YES', 'isFilled': False, 'limitProb': 0.54, 'probAfter': 0.69, 'contractId': 'G6Lj2ccHZyp8aHzwVchb', 'loanAmount': 0, 'probBefore': 0.69, 'visibility': 'public', 'createdTime': 1725952948000, 'isCancelled': False, 'orderAmount': 500, 'isRedemption': False, 'betId': 'dFKBSk3Togt8', 'updatedTime': 1725952948000}, {'id': 'ESnY8HovPcv7', 'fees': {'creatorFee': 0, 'platformFee': 0, 'liquidityFee': 0}, 'fills': [], 'isApi': False, 'amount': 0, 'shares': 0, 'userId': '86AEVw8rgXTUOvfAcNdMsVtCc9I3', 'outcome': 'NO', 'isFilled': False, 'limitProb': 0.75, 'probAfter': 0.69, 'contractId': 'G6Lj2ccHZyp8aHzwVchb', 'loanAmount': 0, 'probBefore': 0.69, 'visibility': 'public', 'createdTime': 1725938661000, 'isCancelled': False, 'orderAmount': 88, 'isRedemption': False, 'betId': 'ESnY8HovPcv7', 'updatedTime': 1725938661000}, {'id': 'OAIPikG8K9Cx', 'fees': {'creatorFee': 0, 'platformFee': 0, 'liquidityFee': 0}, 'fills': [], 'isApi': False, 'amount': 0, 'shares': 0, 'userId': '1RfsLVzFZwaLLXGaSr5yaG5ink23', 'outcome': 'NO', 'isFilled': False, 'limitProb': 0.84, 'probAfter': 0.69, 'contractId': 'G6Lj2ccHZyp8aHzwVchb', 'loanAmount': 0, 'probBefore': 0.69, 'visibility': 'public', 'createdTime': 1725934931000, 'isCancelled': False, 'orderAmount': 457, 'isRedemption': False, 'betId': 'OAIPikG8K9Cx', 'updatedTime': 1725934931000}, {'id': 'yDFCs8FrzRwb', 'fees': {'creatorFee': 0, 'platformFee': 0, 'liquidityFee': 0}, 'fills': [{'amount': 19.424918517265333, 'shares': 35.318033667755145, 'timestamp': 1725121741751, 'matchedBetId': 'f6CC7p3cfSXH'}, {'amount': 101.3133874150469, 'shares': 184.2061589364489, 'timestamp': 1725304502719, 'matchedBetId': 'TzXJBkdRnLRH'}, {'amount': 58.8455571604344, 'shares': 106.99192210988072, 'timestamp': 1725306265020, 'matchedBetId': '9ur9oD8gDSFH'}, {'amount': 436.70767611801557, 'shares': 794.01395657821, 'timestamp': 1725550829482, 'matchedBetId': '9q90vyBhj9vK'}], 'isApi': False, 'amount': 616.2915392107623, 'shares': 1120.530071292295, 'userId': 'LDu9QLYdKReM9eU6gWOipleAy622', 'outcome': 'YES', 'isFilled': False, 'limitProb': 0.55, 'probAfter': 0.5997153241089352, 'contractId': 'G6Lj2ccHZyp8aHzwVchb', 'loanAmount': 0, 'probBefore': 0.5997153241089352, 'visibility': 'public', 'createdTime': 1725003047000, 'isCancelled': False, 'orderAmount': 1000, 'isRedemption': False, 'betId': 'yDFCs8FrzRwb', 'updatedTime': 1725003047000}, {'id': '70Vu1dtVvqDu', 'fees': {'creatorFee': 0, 'platformFee': 0, 'liquidityFee': 0}, 'fills': [], 'isApi': False, 'amount': 0, 'shares': 0, 'userId': '1RfsLVzFZwaLLXGaSr5yaG5ink23', 'outcome': 'YES', 'isFilled': False, 'limitProb': 0.53, 'probAfter': 0.5342946227216714, 'contractId': 'G6Lj2ccHZyp8aHzwVchb', 'loanAmount': 0, 'probBefore': 0.5342946227216714, 'visibility': 'public', 'createdTime': 1724693149000, 'isCancelled': False, 'orderAmount': 500, 'isRedemption': False, 'betId': '70Vu1dtVvqDu', 'updatedTime': 1724693149000}, {'id': 'gc9ItKqCeluV', 'fees': {'creatorFee': 0, 'platformFee': 0, 'liquidityFee': 0}, 'fills': [], 'isApi': False, 'amount': 0, 'shares': 0, 'userId': 'HSB5OZ8jBHQZZLjs9oWS7avZTqE3', 'outcome': 'YES', 'isFilled': False, 'limitProb': 0.52, 'probAfter': 0.52, 'contractId': 'G6Lj2ccHZyp8aHzwVchb', 'loanAmount': 0, 'probBefore': 0.52, 'visibility': 'public', 'createdTime': 1724684630000, 'isCancelled': False, 'orderAmount': 500, 'isRedemption': False, 'betId': 'gc9ItKqCeluV', 'updatedTime': 1724684630000}, {'id': 'S6HrlSPdSLme', 'fees': {'creatorFee': 0, 'platformFee': 0, 'liquidityFee': 0}, 'fills': [], 'isApi': False, 'amount': 0, 'shares': 0, 'userId': 'b7imh8X7BLMXOoc6wVSst3YDPhu2', 'outcome': 'YES', 'isFilled': False, 'limitProb': 0.51, 'probAfter': 0.611964504081422, 'contractId': 'G6Lj2ccHZyp8aHzwVchb', 'loanAmount': 0, 'probBefore': 0.611964504081422, 'visibility': 'public', 'createdTime': 1724523603000, 'isCancelled': False, 'orderAmount': 50, 'isRedemption': False, 'betId': 'S6HrlSPdSLme', 'updatedTime': 1724523603000}, {'id': 'QmEhb5DlGR5O', 'fees': {'creatorFee': 0, 'platformFee': 0, 'liquidityFee': 0}, 'fills': [], 'isApi': False, 'amount': 0, 'shares': 0, 'userId': 'hUM4SO8a8qhfqT1gEZ7ElTCGSEz2', 'outcome': 'YES', 'isFilled': False, 'limitProb': 0.5, 'probAfter': 0.5399999999999999, 'contractId': 'G6Lj2ccHZyp8aHzwVchb', 'loanAmount': 0, 'probBefore': 0.5399999999999999, 'visibility': 'public', 'createdTime': 1724241895000, 'isCancelled': False, 'orderAmount': 2500, 'isRedemption': False, 'betId': 'QmEhb5DlGR5O', 'updatedTime': 1724241895000}, {'id': 'Y6bjPTaqxRyi', 'fees': {'creatorFee': 0, 'platformFee': 0, 'liquidityFee': 0}, 'fills': [], 'isApi': False, 'amount': 0, 'shares': 0, 'userId': 'hUM4SO8a8qhfqT1gEZ7ElTCGSEz2', 'outcome': 'YES', 'isFilled': False, 'limitProb': 0.51, 'probAfter': 0.5399999999999999, 'contractId': 'G6Lj2ccHZyp8aHzwVchb', 'loanAmount': 0, 'probBefore': 0.5399999999999999, 'visibility': 'public', 'createdTime': 1724241881000, 'isCancelled': False, 'orderAmount': 2000, 'isRedemption': False, 'betId': 'Y6bjPTaqxRyi', 'updatedTime': 1724241881000}, {'id': 'o8Jico3pRiO5', 'fees': {'creatorFee': 0, 'platformFee': 0, 'liquidityFee': 0}, 'fills': [{'amount': 369.9323385048749, 'shares': 711.4083432786056, 'timestamp': 1724684058217, 'matchedBetId': 'R1oEgxDIqXMX'}], 'isApi': False, 'amount': 369.9323385048749, 'shares': 711.4083432786056, 'userId': 'hUM4SO8a8qhfqT1gEZ7ElTCGSEz2', 'outcome': 'YES', 'isFilled': False, 'limitProb': 0.52, 'probAfter': 0.5399999999999999, 'contractId': 'G6Lj2ccHZyp8aHzwVchb', 'loanAmount': 0, 'probBefore': 0.5399999999999999, 'visibility': 'public', 'createdTime': 1724241874000, 'isCancelled': False, 'orderAmount': 1500, 'isRedemption': False, 'betId': 'o8Jico3pRiO5', 'updatedTime': 1724241873000}, {'id': 'CF4itKbmckLg', 'fees': {'creatorFee': 0, 'platformFee': 0, 'liquidityFee': 0}, 'fills': [], 'isApi': False, 'amount': 0, 'shares': 0, 'userId': '4juQfJkFnwX9nws3dFOpz4gc1mi2', 'outcome': 'YES', 'isFilled': False, 'expiresAt': 1728348660000, 'limitProb': 0.01, 'probAfter': 0.49000000000000005, 'contractId': 'G6Lj2ccHZyp8aHzwVchb', 'loanAmount': 0, 'probBefore': 0.49000000000000005, 'visibility': 'public', 'createdTime': 1724114817000, 'isCancelled': False, 'orderAmount': 10000, 'isRedemption': False, 'betId': 'CF4itKbmckLg', 'updatedTime': 1724114817000}, {'id': 'hQrJHwlKynuV', 'fees': {'creatorFee': 0, 'platformFee': 0, 'liquidityFee': 0}, 'fills': [], 'isApi': False, 'amount': 0, 'shares': 0, 'userId': 'hUM4SO8a8qhfqT1gEZ7ElTCGSEz2', 'outcome': 'YES', 'isFilled': False, 'limitProb': 0.49, 'probAfter': 0.4933491687256726, 'contractId': 'G6Lj2ccHZyp8aHzwVchb', 'loanAmount': 0, 'probBefore': 0.4933491687256726, 'visibility': 'public', 'createdTime': 1723277036000, 'isCancelled': False, 'orderAmount': 500, 'isRedemption': False, 'betId': 'hQrJHwlKynuV', 'updatedTime': 1723277036000}, {'id': 'Yx3JmLyHKoby', 'fees': {'creatorFee': 0, 'platformFee': 0, 'liquidityFee': 0}, 'fills': [], 'isApi': False, 'amount': 0, 'isAnte': False, 'shares': 0, 'userId': 'ru6jGbpWBGhmvUf1wGkNUlJoKOd2', 'outcome': 'YES', 'isFilled': False, 'limitProb': 0.4, 'probAfter': 0.5, 'contractId': 'G6Lj2ccHZyp8aHzwVchb', 'loanAmount': 0, 'probBefore': 0.5, 'visibility': 'public', 'createdTime': 1720469378000, 'isCancelled': False, 'isChallenge': False, 'orderAmount': 10, 'isRedemption': False, 'betId': 'Yx3JmLyHKoby', 'updatedTime': 1720469378000}, {'id': 'bGmrwRqj8Dkt', 'fees': {'creatorFee': 0, 'platformFee': 0, 'liquidityFee': 0}, 'fills': [], 'isApi': False, 'amount': 0, 'isAnte': False, 'shares': 0, 'userId': 'qnIAzz9RamaodeiJSiGZO6xRGC63', 'outcome': 'YES', 'isFilled': False, 'limitProb': 0.41, 'probAfter': 0.5066788208176168, 'contractId': 'G6Lj2ccHZyp8aHzwVchb', 'loanAmount': 0, 'probBefore': 0.5066788208176168, 'visibility': 'public', 'createdTime': 1717151765000, 'isCancelled': False, 'isChallenge': False, 'orderAmount': 50, 'isRedemption': False, 'betId': 'bGmrwRqj8Dkt', 'updatedTime': 1717151765000}, {'id': 'WgE93fRT1U87CULrljJm', 'fees': {'creatorFee': 0, 'platformFee': 0, 'liquidityFee': 0}, 'fills': [], 'isApi': False, 'amount': 0, 'isAnte': False, 'shares': 0, 'userId': 'b3WDWY8TdrhQKKNuJkNuvQKwHWE3', 'outcome': 'YES', 'isFilled': False, 'userName': 'Marcus Abramovitch', 'limitProb': 0.49, 'probAfter': 0.5013437445083567, 'contractId': 'G6Lj2ccHZyp8aHzwVchb', 'loanAmount': 0, 'probBefore': 0.5013437445083567, 'visibility': 'public', 'createdTime': 1716217794000, 'isCancelled': False, 'isChallenge': False, 'orderAmount': 1000, 'isRedemption': False, 'userUsername': 'MarcusAbramovitch', 'userAvatarUrl': 'https://firebasestorage.googleapis.com/v0/b/mantic-markets.appspot.com/o/user-images%2FMarcusAbramovitch%2F3T0leLyXbo.jpg?alt=media&token=64ec1422-3741-4481-99a5-f31d5ed47031', 'betId': 'WgE93fRT1U87CULrljJm', 'updatedTime': 1716217795000}, {'id': 'oIAmaoejNFMTz8dr3Dr1', 'fees': {'creatorFee': 0, 'platformFee': 0, 'liquidityFee': 0}, 'fills': [{'amount': 622.4142011174199, 'shares': 1270.2330635049386, 'timestamp': 1720572415394, 'matchedBetId': 'HsEOvNmHsKqh'}, {'amount': 39.59447469675427, 'shares': 80.80505040153932, 'timestamp': 1720631917369, 'matchedBetId': '5kHZK4NPrVFj'}, {'amount': 46.44611397686794, 'shares': 94.78798770789376, 'timestamp': 1720652440862, 'matchedBetId': 'cGwHt3ToCma7'}, {'amount': 46.44611397686794, 'shares': 94.78798770789376, 'timestamp': 1720655456080, 'matchedBetId': 'Tsw6cqQtcWIB'}, {'amount': 46.44611397686794, 'shares': 94.78798770789376, 'timestamp': 1720685558593, 'matchedBetId': 'o7lkTlvot2dK'}, {'amount': 12.129728377560356, 'shares': 24.75454770930685, 'timestamp': 1720686252442, 'matchedBetId': 'a42DT8VIwp32'}, {'amount': 167.0474270961402, 'shares': 340.91311652273515, 'timestamp': 1720736588780, 'matchedBetId': 'ADOkwDIH5L29'}, {'amount': 46.44611397686794, 'shares': 94.78798770789376, 'timestamp': 1720774913150, 'matchedBetId': '5tKRnSnkFU1U'}, {'amount': 24.38396659856089, 'shares': 49.76319713992018, 'timestamp': 1720817340501, 'matchedBetId': 'LFKuvtf6zvRT'}, {'amount': 46.44611397686794, 'shares': 94.78798770789376, 'timestamp': 1720818687865, 'matchedBetId': '7wZd1l3vvvAl'}, {'amount': 9.289222795373588, 'shares': 18.95759754157875, 'timestamp': 1720859178400, 'matchedBetId': 'tVvH7Ath1tEb'}, {'amount': 139.33834193060383, 'shares': 284.3639631236813, 'timestamp': 1720861199146, 'matchedBetId': 'Onhd9Af8HL0M'}, {'amount': 182.39056343694622, 'shares': 372.2256396672372, 'timestamp': 1720891132614, 'matchedBetId': '8sHgr2YM0NPY'}, {'amount': 46.44611397686794, 'shares': 94.78798770789376, 'timestamp': 1720901234586, 'matchedBetId': 'EH5bFGE73LuJ'}, {'amount': 38.21383615198131, 'shares': 77.9874207183292, 'timestamp': 1720971369206, 'matchedBetId': '9kjtOTBmZ74A'}, {'amount': 109.74640978714092, 'shares': 223.97226487171616, 'timestamp': 1721076050345, 'matchedBetId': 'FywdvNw25Bxc'}, {'amount': 83.6429650593588, 'shares': 170.699928692569, 'timestamp': 1721113248279, 'matchedBetId': 'alVhaZ4QUvJY'}, {'amount': 0.49, 'shares': 1, 'timestamp': 1721122447790, 'matchedBetId': 'tJbYLmwKV6IV'}, {'amount': 46.44611397686794, 'shares': 94.78798770789376, 'timestamp': 1721134210168, 'matchedBetId': 'mQH1K5EuAdFz'}, {'amount': 44.85105962186474, 'shares': 91.53277473849947, 'timestamp': 1721201130852, 'matchedBetId': 'c9EBFCCf5Qlq'}, {'amount': 92.89222795373588, 'shares': 189.57597541578752, 'timestamp': 1721279539607, 'matchedBetId': 'gVtwb5t9YGPM'}, {'amount': 44.85105962187405, 'shares': 91.53277473851847, 'timestamp': 1721374750168, 'matchedBetId': 'xrdruZEIokVr'}, {'amount': 0.49, 'shares': 1, 'timestamp': 1721393702441, 'matchedBetId': '5v4LBQa6KEWw'}, {'amount': 89.53577490920347, 'shares': 182.7260712432724, 'timestamp': 1721571259324, 'matchedBetId': 'kv8yhCjb4d0E'}, {'amount': 0.49, 'shares': 1, 'timestamp': 1721576585708, 'matchedBetId': 'w26OwSdcLijq'}, {'amount': 373.8330215439625, 'shares': 762.9245337631888, 'timestamp': 1721615785220, 'matchedBetId': 'gd7ztBLsgyta'}, {'amount': 46.44611397686794, 'shares': 94.78798770789376, 'timestamp': 1721617457493, 'matchedBetId': '2t4MVUsvIIhu'}, {'amount': 46.44611397686794, 'shares': 94.78798770789376, 'timestamp': 1721636156400, 'matchedBetId': 'rJ5bGyYwJ7kZ'}, {'amount': 46.44611397686794, 'shares': 94.78798770789376, 'timestamp': 1721638955363, 'matchedBetId': 'QDZk57sQKEnW'}, {'amount': 0.49, 'shares': 1, 'timestamp': 1721651062465, 'matchedBetId': 'T1BVwfRNHrTL'}, {'amount': 32.831432659158224, 'shares': 67.00292379420046, 'timestamp': 1721653141827, 'matchedBetId': '0SkrGE4BTBy4'}, {'amount': 500.49446778221704, 'shares': 1021.4172811881981, 'timestamp': 1721685865447, 'matchedBetId': 'BqYdvRpG7EJg'}, {'amount': 45.34099386878949, 'shares': 92.53264054854998, 'timestamp': 1721772670895, 'matchedBetId': 'v9G1VcArBkv7'}, {'amount': 45.33872771256214, 'shares': 92.52801573992274, 'timestamp': 1721848225121, 'matchedBetId': 'c6eaNXgMDlKx'}, {'amount': 278.67668386120766, 'shares': 568.7279262473626, 'timestamp': 1721898343365, 'matchedBetId': 'eZAcmKzIZfGw'}, {'amount': 0.4899886429272673, 'shares': 0.9999768223005455, 'timestamp': 1721909476910, 'matchedBetId': 'WqdBXWjF2ZGb'}, {'amount': 46.44611397686794, 'shares': 94.78798770789376, 'timestamp': 1721916508377, 'matchedBetId': 'J1X07BVml5in'}, {'amount': 44.85105962186654, 'shares': 91.53277473850315, 'timestamp': 1721939256617, 'matchedBetId': 'UVvnqzyXd3aM'}, {'amount': 0.48998864292726707, 'shares': 0.9999768223005451, 'timestamp': 1721979740259, 'matchedBetId': '8fiCO8E8yoVm'}, {'amount': 46.44611397686794, 'shares': 94.78798770789376, 'timestamp': 1721988449061, 'matchedBetId': 'RIxbxpf2bvmz'}, {'amount': 92.40223642862763, 'shares': 188.57599271148496, 'timestamp': 1721994778339, 'matchedBetId': 'fXBBETicOotY'}, {'amount': 46.44611397686794, 'shares': 94.78798770789376, 'timestamp': 1722061663598, 'matchedBetId': 'S9LMF9my8Rog'}, {'amount': 0.48998864292726707, 'shares': 0.9999768223005451, 'timestamp': 1722065429129, 'matchedBetId': 'GMk3arTnrvug'}, {'amount': 92.89222795373588, 'shares': 189.57597541578752, 'timestamp': 1722078554576, 'matchedBetId': '1vPpmKehYGUN'}, {'amount': 46.44611397686794, 'shares': 94.78798770789376, 'timestamp': 1722080032552, 'matchedBetId': 'Js8GWbi0WDMo'}, {'amount': 130.83167083973765, 'shares': 267.0034098770156, 'timestamp': 1722116571153, 'matchedBetId': '6WSVFad4PHTy'}, {'amount': 0.48998864292726707, 'shares': 0.9999768223005451, 'timestamp': 1722155389002, 'matchedBetId': '1qfDqLC09EE6'}, {'amount': 46.44611397686794, 'shares': 94.78798770789376, 'timestamp': 1722172500254, 'matchedBetId': 'f7yROq9WgoAI'}, {'amount': 928.9222795373587, 'shares': 1895.759754157875, 'timestamp': 1722199887561, 'matchedBetId': 'U4urppGQ5mNt'}, {'amount': 46.44611397686794, 'shares': 94.78798770789376, 'timestamp': 1722244159176, 'matchedBetId': '5KZEwMIePwwe'}, {'amount': 0.48998864292726707, 'shares': 0.9999768223005451, 'timestamp': 1722245135257, 'matchedBetId': '0Ykqau1jaBwa'}, {'amount': 9.289222795373588, 'shares': 18.95759754157875, 'timestamp': 1722303072920, 'matchedBetId': 'HiqtryrlbmAs'}, {'amount': 46.44611397686794, 'shares': 94.78798770789376, 'timestamp': 1722318246021, 'matchedBetId': '4uAbUYH0aoB0'}, {'amount': 46.44611397686794, 'shares': 94.78798770789376, 'timestamp': 1722334116910, 'matchedBetId': 'sXg9ND3fRqeS'}, {'amount': 0.48998864292726707, 'shares': 0.9999768223005451, 'timestamp': 1722339014176, 'matchedBetId': 'WDO5Dhgta5oR'}, {'amount': 0.48998864292726707, 'shares': 0.9999768223005451, 'timestamp': 1722351080263, 'matchedBetId': '6XGV4ZjNbsiS'}, {'amount': 0.48998864292726707, 'shares': 0.9999768223005451, 'timestamp': 1722419456021, 'matchedBetId': 'hkZqoD6ZMzXX'}, {'amount': 46.44611397686794, 'shares': 94.78798770789376, 'timestamp': 1722433894006, 'matchedBetId': 'QdZyPPk3FlYr'}, {'amount': 46.44611397686794, 'shares': 94.78798770789376, 'timestamp': 1722441462532, 'matchedBetId': 'RntwjL4U7ChU'}, {'amount': 482.0800845637842, 'shares': 983.836907273029, 'timestamp': 1722525880355, 'matchedBetId': 'fKA82Ww5zAOa'}, {'amount': 91.41894927772427, 'shares': 186.5692842402536, 'timestamp': 1722594255279, 'matchedBetId': 'e3Nn5lHBc3yG'}, {'amount': 117.72062922401471, 'shares': 240.24618208982596, 'timestamp': 1722765247548, 'matchedBetId': 'DhEUiWtbrenU'}, {'amount': 0.4899886429272673, 'shares': 0.9999768223005455, 'timestamp': 1722766292000, 'matchedBetId': 'tt2kjE3FZjE4'}, {'amount': 84.91490254978864, 'shares': 173.29571948936456, 'timestamp': 1722899734643, 'matchedBetId': 'zJPCyd6LIc6B'}, {'amount': 0.48998864292726707, 'shares': 0.9999768223005451, 'timestamp': 1722933883197, 'matchedBetId': 'Ge5aKqkT0pHi'}, {'amount': 232.23056988433967, 'shares': 473.93993853946876, 'timestamp': 1722936867917, 'matchedBetId': 's425HEPlEC0B'}, {'amount': 229.0889599106199, 'shares': 467.52848961351003, 'timestamp': 1723024259450, 'matchedBetId': '9xQqmbk4d0r0'}, {'amount': 64.18642649114912, 'shares': 130.99270712479412, 'timestamp': 1723156238412, 'matchedBetId': 'DrSIwlg8js9U'}, {'amount': 56.558235955979306, 'shares': 115.42497133873329, 'timestamp': 1723225526830, 'matchedBetId': '9YrfKa0df7Ab'}, {'amount': 35.74025372256475, 'shares': 72.93929331135664, 'timestamp': 1723288832825, 'matchedBetId': 'eStCHmoALdyv'}, {'amount': 356.0135448877202, 'shares': 726.5582548728984, 'timestamp': 1723383264165, 'matchedBetId': 't2UI8ls4s3a6'}, {'amount': 0.48998864292726707, 'shares': 0.9999768223005451, 'timestamp': 1723390684538, 'matchedBetId': '5kNq4WP5rgHu'}, {'amount': 46.44611397686794, 'shares': 94.78798770789376, 'timestamp': 1723390923169, 'matchedBetId': 'YiMjuIbXLdpw'}, {'amount': 90.65351733227084, 'shares': 185.00717822912415, 'timestamp': 1723460838355, 'matchedBetId': 'gqH2p0M37j4Q'}, {'amount': 46.44611397686794, 'shares': 94.78798770789376, 'timestamp': 1723460858094, 'matchedBetId': 'yv2JzyPwymIT'}, {'amount': 85.17588542112591, 'shares': 173.82833759413452, 'timestamp': 1723805729440, 'matchedBetId': 'qfMuDd2BzbWF'}, {'amount': 46.44611397686794, 'shares': 94.78798770789376, 'timestamp': 1723816403632, 'matchedBetId': '735MrhFqNdBn'}, {'amount': 46.44611397686794, 'shares': 94.78798770789376, 'timestamp': 1723816413036, 'matchedBetId': 'COQlhXnspS9Q'}, {'amount': 464.46113976867935, 'shares': 947.8798770789375, 'timestamp': 1723869007426, 'matchedBetId': 'MFJqRMgaV3ya'}, {'amount': 0.48998864292726707, 'shares': 0.9999768223005451, 'timestamp': 1723884471302, 'matchedBetId': 'El4I95jDkDgO'}, {'amount': 92.89222795373588, 'shares': 189.57597541578752, 'timestamp': 1723888081072, 'matchedBetId': '9JNTxiV1VeFY'}, {'amount': 185.78445590747177, 'shares': 379.15195083157505, 'timestamp': 1723967438483, 'matchedBetId': 'cpPZR4u9HGeJ'}, {'amount': 0.48998864292726707, 'shares': 0.9999768223005451, 'timestamp': 1723972920066, 'matchedBetId': 'EldwtEKZFeO7'}, {'amount': 557.3533677224153, 'shares': 1137.4558524947251, 'timestamp': 1723973690705, 'matchedBetId': 'w0TnEVNFXpLG'}, {'amount': 22.366836244752175, 'shares': 45.64660458112689, 'timestamp': 1723985776848, 'matchedBetId': 'ic0NEgqBty9z'}, {'amount': 117.18673998336426, 'shares': 239.1566122109475, 'timestamp': 1724060884213, 'matchedBetId': 'K5y0DL6VC9wp'}, {'amount': 0.48998864292726707, 'shares': 0.9999768223005451, 'timestamp': 1724064995986, 'matchedBetId': 'oXdnMksDc2tW'}, {'amount': 0.48998864292726707, 'shares': 0.9999768223005451, 'timestamp': 1724141450934, 'matchedBetId': 'EPHHG94XFPz9'}, {'amount': 232.23056988433967, 'shares': 473.93993853946876, 'timestamp': 1724160238650, 'matchedBetId': 'IUvcURIP2dmG'}, {'amount': 46.44611397686794, 'shares': 94.78798770789376, 'timestamp': 1724228412218, 'matchedBetId': 'EaInCaL353z0'}, {'amount': 0.48998864292726707, 'shares': 0.9999768223005451, 'timestamp': 1724235254731, 'matchedBetId': '2Z0yNchoXctL'}], 'isApi': False, 'amount': 9045.035248153488, 'isAnte': False, 'shares': 18459.255608476506, 'userId': 'rTuiawdizzP7PNqGiXVWK81R1NB2', 'outcome': 'YES', 'isFilled': False, 'userName': 'Boulder Holder', 'limitProb': 0.49, 'probAfter': 0.5624057807121223, 'contractId': 'G6Lj2ccHZyp8aHzwVchb', 'loanAmount': 0, 'probBefore': 0.5624057807121223, 'visibility': 'public', 'createdTime': 1715915479000, 'isCancelled': False, 'isChallenge': False, 'orderAmount': 10000, 'isRedemption': False, 'userUsername': 'BoulderHolder', 'userAvatarUrl': 'https://lh3.googleusercontent.com/a/ALm5wu2Fl_oZdY-xTb5GXDGnHscqE7AQe6m1k1I_5SUf=s96-c', 'betId': 'oIAmaoejNFMTz8dr3Dr1', 'updatedTime': 1715915479000}, {'id': 'K1CAZ7s4zt0ETdrPc8Lq', 'fees': {'creatorFee': 0, 'platformFee': 0, 'liquidityFee': 0}, 'fills': [{'amount': 0.03667014194151138, 'shares': 0.11829078045648829, 'timestamp': 1709212046638, 'matchedBetId': '4uYGC3fsYEa4Z2abVIeb'}, {'amount': 107.70764705987948, 'shares': 347.4440227738047, 'timestamp': 1709214664273, 'matchedBetId': 'Sf0DXkW5ATx6UVQzfFjR'}, {'amount': 2.104602731996717, 'shares': 6.78904107095715, 'timestamp': 1709282770074, 'matchedBetId': 'C4OknoBNRQIiL0sTV49U'}, {'amount': 1.8454578013883463, 'shares': 5.9530896818978905, 'timestamp': 1709301003825, 'matchedBetId': '2fcZy5eThHqFfGkl7Ixu'}, {'amount': 2.44917455152527, 'shares': 7.9005630694363544, 'timestamp': 1709323214428, 'matchedBetId': 'OudJRgEf8klTLpiGYLWw'}, {'amount': 61.73762775830796, 'shares': 199.15363793002564, 'timestamp': 1709323753891, 'matchedBetId': 'UUjVrZciZ1vpRDoRtLM4'}, {'amount': 22.463768115942035, 'shares': 72.46376811594203, 'timestamp': 1709332464422, 'matchedBetId': 'mlmbiyHoybWULgOoufW6'}, {'amount': 60.401185834057706, 'shares': 194.84253494857322, 'timestamp': 1710696148579, 'matchedBetId': 'zYPFNFONvXJ6ZA9xlay6'}, {'amount': 42.57277459611225, 'shares': 137.33153095520078, 'timestamp': 1710706120358, 'matchedBetId': '2fJowm5MAtd3FsvhP4hT'}, {'amount': 4.005911368952538, 'shares': 12.922294738556573, 'timestamp': 1711941761196, 'matchedBetId': 'BToUbpY4JTKSqMNJN51O'}, {'amount': 1.3819819089055982, 'shares': 4.458006157759994, 'timestamp': 1711980694470, 'matchedBetId': '4nvjLgRIjIovbDukgyXg'}, {'amount': 73.6687870591375, 'shares': 237.64124857786285, 'timestamp': 1713928241678, 'matchedBetId': 'XflvQkJpo2ob2pAnFyyh'}, {'amount': 38.4040409403756, 'shares': 123.88400303346965, 'timestamp': 1725932402057, 'matchedBetId': 'KLdNc98y2bbW'}, {'amount': 43.97331529008914, 'shares': 141.84940416157784, 'timestamp': 1725935223082, 'matchedBetId': 'hpqup1l11e1u'}, {'amount': 109.93328822522284, 'shares': 354.6235104039446, 'timestamp': 1725938005190, 'matchedBetId': 'TAiMZ2huzwRX'}, {'amount': 21.98665764504457, 'shares': 70.92470208078892, 'timestamp': 1725950463323, 'matchedBetId': 'mjWpRZ3rWMmR'}, {'amount': 43.97331529008914, 'shares': 141.84940416157784, 'timestamp': 1725956276651, 'matchedBetId': 'tLqkoOAZubWz'}, {'amount': 109.93328822522284, 'shares': 354.6235104039446, 'timestamp': 1725962573363, 'matchedBetId': '9YVZ4FMgJvyz'}, {'amount': 21.98665764504457, 'shares': 70.92470208078892, 'timestamp': 1725962772101, 'matchedBetId': 'wJT2NCxl5S9F'}, {'amount': 21.98665764504457, 'shares': 70.92470208078892, 'timestamp': 1725966176492, 'matchedBetId': 'NLCJ4fqy9DSP'}, {'amount': 12.29435827746921, 'shares': 39.65922024990067, 'timestamp': 1725976402128, 'matchedBetId': 'ukd85Alnoet9'}, {'amount': 21.98665764504457, 'shares': 70.92470208078892, 'timestamp': 1725985758678, 'matchedBetId': '0gGnpxSzWo9f'}, {'amount': 21.98665764504457, 'shares': 70.92470208078892, 'timestamp': 1725991849878, 'matchedBetId': 'JDKFI1mjwq4I'}, {'amount': 19.050391014029, 'shares': 61.45287423880322, 'timestamp': 1726117610909, 'matchedBetId': 'R7073DcXSjKg'}, {'amount': 21.98665764504457, 'shares': 70.92470208078892, 'timestamp': 1726122941964, 'matchedBetId': 'XpRy1SkljPCm'}], 'isApi': False, 'amount': 889.8575320609121, 'isAnte': False, 'shares': 2870.5081679384252, 'userId': 'b3WDWY8TdrhQKKNuJkNuvQKwHWE3', 'outcome': 'NO', 'isFilled': False, 'userName': 'Marcus Abramovitch', 'limitProb': 0.69, 'probAfter': 0.6697169722242068, 'contractId': 'G6Lj2ccHZyp8aHzwVchb', 'loanAmount': 0, 'probBefore': 0.6697169722242068, 'visibility': 'public', 'createdTime': 1708217093000, 'isCancelled': False, 'isChallenge': False, 'orderAmount': 10000, 'isRedemption': False, 'userUsername': 'MarcusAbramovitch', 'userAvatarUrl': 'https://firebasestorage.googleapis.com/v0/b/mantic-markets.appspot.com/o/user-images%2FMarcusAbramovitch%2F3T0leLyXbo.jpg?alt=media&token=64ec1422-3741-4481-99a5-f31d5ed47031', 'betId': 'K1CAZ7s4zt0ETdrPc8Lq', 'updatedTime': 1713928241000}, {'id': 'LS1oaUPnYQE0XLom2Ai6', 'fees': {'creatorFee': 0, 'platformFee': 0, 'liquidityFee': 0}, 'fills': [{'amount': 1.2375294454181127, 'shares': 4.267342915234871, 'timestamp': 1704324440024, 'matchedBetId': 'iQNEhbpzICkjgAXwaSVS'}, {'amount': 40.84507042253522, 'shares': 140.84507042253523, 'timestamp': 1704324441086, 'matchedBetId': 'TG6tfUmrjtPUa7ZNBlFD'}, {'amount': 20.42253521126761, 'shares': 70.42253521126761, 'timestamp': 1704324914115, 'matchedBetId': '9sqcQ1Rqp4Q4R2QVbDXi'}, {'amount': 164.98707943090935, 'shares': 568.9209635548598, 'timestamp': 1706322801524, 'matchedBetId': 'QbnmZMGmxLYtGPLYugaW'}, {'amount': 2488.202537298096, 'shares': 8580.008749303779, 'timestamp': 1706709936068, 'matchedBetId': 'zkCUdniG0zXwq0dNdDGL'}, {'amount': 31.456905849094113, 'shares': 108.47208913480728, 'timestamp': 1706828533780, 'matchedBetId': 'rso6MYwsZqwktBwyvUfv'}, {'amount': 215.10192860270683, 'shares': 741.7307882851959, 'timestamp': 1708103618017, 'matchedBetId': 'TURCQj7CG9bAgSL4MrSP'}], 'isApi': False, 'amount': 2962.2535862600275, 'isAnte': False, 'shares': 10214.667538827682, 'userId': 'b3WDWY8TdrhQKKNuJkNuvQKwHWE3', 'outcome': 'NO', 'isFilled': False, 'userName': 'Marcus Abramovitch', 'limitProb': 0.71, 'probAfter': 0.6818705997802084, 'contractId': 'G6Lj2ccHZyp8aHzwVchb', 'loanAmount': 0, 'probBefore': 0.6818705997802084, 'visibility': 'public', 'createdTime': 1704223268000, 'isCancelled': False, 'isChallenge': False, 'orderAmount': 4000, 'isRedemption': False, 'userUsername': 'MarcusAbramovitch', 'userAvatarUrl': 'https://firebasestorage.googleapis.com/v0/b/mantic-markets.appspot.com/o/user-images%2FMarcusAbramovitch%2F3T0leLyXbo.jpg?alt=media&token=64ec1422-3741-4481-99a5-f31d5ed47031', 'betId': 'LS1oaUPnYQE0XLom2Ai6', 'updatedTime': 1708103618000}, {'id': 'xLaT5WnptD3WNdZEnfIG', 'fees': {'creatorFee': 0, 'platformFee': 0, 'liquidityFee': 0}, 'fills': [{'amount': 0.149803081418197, 'shares': 0.5350110050649892, 'timestamp': 1704186748144, 'matchedBetId': 'Bi9Ufx1ATHC2yG19HbHS'}, {'amount': 363.6250309692237, 'shares': 1298.6608248900845, 'timestamp': 1704191756193, 'matchedBetId': 'BwILuifizAdrKeEZ8A2q'}, {'amount': 35.17983554418735, 'shares': 125.6422698006691, 'timestamp': 1704216950687, 'matchedBetId': '1mgrtiMGPi1HSD0srkpn'}], 'isApi': False, 'amount': 398.9546695948293, 'isAnte': False, 'shares': 1424.8381056958185, 'userId': 'b3WDWY8TdrhQKKNuJkNuvQKwHWE3', 'outcome': 'NO', 'isFilled': False, 'userName': 'Marcus Abramovitch', 'limitProb': 0.72, 'probAfter': 0.692076791148538, 'contractId': 'G6Lj2ccHZyp8aHzwVchb', 'loanAmount': 0, 'probBefore': 0.692076791148538, 'visibility': 'public', 'createdTime': 1704174109000, 'isCancelled': False, 'isChallenge': False, 'orderAmount': 4000, 'isRedemption': False, 'userUsername': 'MarcusAbramovitch', 'userAvatarUrl': 'https://firebasestorage.googleapis.com/v0/b/mantic-markets.appspot.com/o/user-images%2FMarcusAbramovitch%2F3T0leLyXbo.jpg?alt=media&token=64ec1422-3741-4481-99a5-f31d5ed47031', 'betId': 'xLaT5WnptD3WNdZEnfIG', 'updatedTime': 1704216950000}, {'id': 'bpHykH1KLguVRxGblNpz', 'fees': {'creatorFee': 0, 'platformFee': 0, 'liquidityFee': 0}, 'fills': [{'amount': 9.511751982998712, 'shares': 35.228711048143374, 'timestamp': 1704156959323, 'matchedBetId': 'JZcqWkFEGR6pFSzIYfWA'}], 'isApi': False, 'amount': 9.511751982998712, 'isAnte': False, 'shares': 35.228711048143374, 'userId': 'qnIAzz9RamaodeiJSiGZO6xRGC63', 'outcome': 'NO', 'isFilled': False, 'userName': 'Agh', 'limitProb': 0.73, 'probAfter': 0.714754474601183, 'contractId': 'G6Lj2ccHZyp8aHzwVchb', 'loanAmount': 0, 'probBefore': 0.714754474601183, 'visibility': 'public', 'createdTime': 1703446699000, 'isCancelled': False, 'isChallenge': False, 'orderAmount': 20, 'isRedemption': False, 'userUsername': 'Agh', 'userAvatarUrl': 'https://firebasestorage.googleapis.com/v0/b/mantic-markets.appspot.com/o/user-images%2FAghgg2%2FIjSFdFdbHO.jpg?alt=media&token=7fcbf9aa-3d8e-4b3a-896a-92c3aadf6a66', 'betId': 'bpHykH1KLguVRxGblNpz', 'updatedTime': 1704156959000}, {'id': 'HC38AlY1AUHQROYKUvlr', 'fees': {'creatorFee': 0, 'platformFee': 0, 'liquidityFee': 0}, 'fills': [], 'isApi': False, 'amount': 0, 'isAnte': False, 'shares': 0, 'userId': 'v0UHeEJNhEX53OehA5OjUDhoPs63', 'outcome': 'NO', 'isFilled': False, 'userName': 'ALWA', 'limitProb': 0.99, 'probAfter': 0.6900000000000002, 'contractId': 'G6Lj2ccHZyp8aHzwVchb', 'loanAmount': 0, 'probBefore': 0.6900000000000002, 'visibility': 'public', 'createdTime': 1701236312000, 'isCancelled': False, 'isChallenge': False, 'orderAmount': 1, 'isRedemption': False, 'userUsername': 'ALWA', 'userAvatarUrl': 'https://lh3.googleusercontent.com/a/ACg8ocIRH7crbMWFQ3Qwj06xvv3YHWXq-m7VEQkxDuai_CPk=s96-c', 'betId': 'HC38AlY1AUHQROYKUvlr', 'updatedTime': 1701236312000}, {'id': '7tixHEtAI6q1STLN4Cfn', 'fees': {'creatorFee': 0, 'platformFee': 0, 'liquidityFee': 0}, 'fills': [], 'isApi': False, 'amount': 0, 'isAnte': False, 'shares': 0, 'userId': 'FzpgR5aK88WvlbER2dKykybnDn42', 'outcome': 'NO', 'isFilled': False, 'userName': 'Levi Bankman Finkelstein', 'limitProb': 0.9, 'probAfter': 0.7, 'contractId': 'G6Lj2ccHZyp8aHzwVchb', 'loanAmount': 0, 'probBefore': 0.7, 'visibility': 'public', 'createdTime': 1687261102000, 'isCancelled': False, 'isChallenge': False, 'orderAmount': 100, 'isRedemption': False, 'userUsername': 'levifinkelstein', 'userAvatarUrl': 'https://firebasestorage.googleapis.com/v0/b/mantic-markets.appspot.com/o/user-images%2Flevifinkelstein%2FcMN5GOw9Mv.jpg?alt=media&token=3f973a97-b434-4297-b7af-758a6b65d591', 'betId': '7tixHEtAI6q1STLN4Cfn', 'updatedTime': 1704119421000}, {'id': 'yb31QmzqSFSDCMWCFbz8', 'fees': {'creatorFee': 0, 'platformFee': 0, 'liquidityFee': 0}, 'fills': [], 'isApi': False, 'amount': 0, 'isAnte': False, 'shares': 0, 'userId': 'FzpgR5aK88WvlbER2dKykybnDn42', 'outcome': 'YES', 'isFilled': False, 'userName': 'Levi Bankman Finkelstein', 'limitProb': 0.35, 'probAfter': 0.6202508179709161, 'contractId': 'G6Lj2ccHZyp8aHzwVchb', 'loanAmount': 0, 'probBefore': 0.6202508179709161, 'visibility': 'public', 'createdTime': 1687104748000, 'isCancelled': False, 'isChallenge': False, 'orderAmount': 200, 'isRedemption': False, 'userUsername': 'levifinkelstein', 'userAvatarUrl': 'https://firebasestorage.googleapis.com/v0/b/mantic-markets.appspot.com/o/user-images%2Flevifinkelstein%2FcMN5GOw9Mv.jpg?alt=media&token=3f973a97-b434-4297-b7af-758a6b65d591', 'betId': 'yb31QmzqSFSDCMWCFbz8', 'updatedTime': 1704119420000}, {'id': 'nJhRkAN2z5dY2LVrdN4H', 'fees': {'creatorFee': 0, 'platformFee': 0, 'liquidityFee': 0}, 'fills': [], 'isApi': False, 'amount': 0, 'isAnte': False, 'shares': 0, 'userId': 'FzpgR5aK88WvlbER2dKykybnDn42', 'outcome': 'YES', 'isFilled': False, 'userName': 'Levi Bankman Finkelstein', 'limitProb': 0.2, 'probAfter': 0.6202508179709161, 'contractId': 'G6Lj2ccHZyp8aHzwVchb', 'loanAmount': 0, 'probBefore': 0.6202508179709161, 'visibility': 'public', 'createdTime': 1687104696000, 'isCancelled': False, 'isChallenge': False, 'orderAmount': 100, 'isRedemption': False, 'userUsername': 'levifinkelstein', 'userAvatarUrl': 'https://firebasestorage.googleapis.com/v0/b/mantic-markets.appspot.com/o/user-images%2Flevifinkelstein%2FcMN5GOw9Mv.jpg?alt=media&token=3f973a97-b434-4297-b7af-758a6b65d591', 'betId': 'nJhRkAN2z5dY2LVrdN4H', 'updatedTime': 1704119420000}, {'id': 'CC8awB0Wjp6QrdzDsrk3', 'fees': {'creatorFee': 0, 'platformFee': 0, 'liquidityFee': 0}, 'fills': [], 'amount': 0, 'isAnte': False, 'shares': 0, 'userId': 'cA1JupYR5AR8btHUs2xvkui7jA93', 'outcome': 'YES', 'isFilled': False, 'userName': 'Genzy', 'limitProb': 0.37, 'probAfter': 0.6, 'contractId': 'G6Lj2ccHZyp8aHzwVchb', 'loanAmount': 0, 'probBefore': 0.6, 'visibility': 'public', 'createdTime': 1681153203000, 'isCancelled': False, 'isChallenge': False, 'orderAmount': 300, 'isRedemption': False, 'userUsername': 'Gen', 'userAvatarUrl': 'https://firebasestorage.googleapis.com/v0/b/mantic-markets.appspot.com/o/user-images%2FTodWaddington%2FHiYzxYf-w5.png?alt=media&token=eb5b9c77-b2f2-410e-9bad-76d96081176f', 'betId': 'CC8awB0Wjp6QrdzDsrk3', 'updatedTime': 1681426941000, 'isApi': None}, {'id': '7VY0YhE62ucr2CKEiXpC', 'fees': {'creatorFee': 0, 'platformFee': 0, 'liquidityFee': 0}, 'fills': [], 'amount': 0, 'isAnte': False, 'shares': 0, 'userId': 'cA1JupYR5AR8btHUs2xvkui7jA93', 'outcome': 'YES', 'isFilled': False, 'userName': 'Genzy', 'limitProb': 0.36, 'probAfter': 0.6, 'contractId': 'G6Lj2ccHZyp8aHzwVchb', 'loanAmount': 0, 'probBefore': 0.6, 'visibility': 'public', 'createdTime': 1681153193000, 'isCancelled': False, 'isChallenge': False, 'orderAmount': 300, 'isRedemption': False, 'userUsername': 'Gen', 'userAvatarUrl': 'https://firebasestorage.googleapis.com/v0/b/mantic-markets.appspot.com/o/user-images%2FTodWaddington%2FHiYzxYf-w5.png?alt=media&token=eb5b9c77-b2f2-410e-9bad-76d96081176f', 'betId': '7VY0YhE62ucr2CKEiXpC', 'updatedTime': 1681426844000, 'isApi': None}, {'id': '8WHhe1YmWYgzlG5ViasB', 'fees': {'creatorFee': 0, 'platformFee': 0, 'liquidityFee': 0}, 'fills': [], 'amount': 0, 'isAnte': False, 'shares': 0, 'userId': 'cA1JupYR5AR8btHUs2xvkui7jA93', 'outcome': 'YES', 'isFilled': False, 'userName': 'Genzy', 'limitProb': 0.35, 'probAfter': 0.6, 'contractId': 'G6Lj2ccHZyp8aHzwVchb', 'loanAmount': 0, 'probBefore': 0.6, 'visibility': 'public', 'createdTime': 1681153189000, 'isCancelled': False, 'isChallenge': False, 'orderAmount': 300, 'isRedemption': False, 'userUsername': 'Gen', 'userAvatarUrl': 'https://firebasestorage.googleapis.com/v0/b/mantic-markets.appspot.com/o/user-images%2FTodWaddington%2FHiYzxYf-w5.png?alt=media&token=eb5b9c77-b2f2-410e-9bad-76d96081176f', 'betId': '8WHhe1YmWYgzlG5ViasB', 'updatedTime': 1681426871000, 'isApi': None}, {'id': 'sNqNcq6GEimCiUxvG5co', 'fees': {'creatorFee': 0, 'platformFee': 0, 'liquidityFee': 0}, 'fills': [], 'amount': 0, 'isAnte': False, 'shares': 0, 'userId': 'cA1JupYR5AR8btHUs2xvkui7jA93', 'outcome': 'YES', 'isFilled': False, 'userName': 'Genzy', 'limitProb': 0.34, 'probAfter': 0.6, 'contractId': 'G6Lj2ccHZyp8aHzwVchb', 'loanAmount': 0, 'probBefore': 0.6, 'visibility': 'public', 'createdTime': 1681153184000, 'isCancelled': False, 'isChallenge': False, 'orderAmount': 300, 'isRedemption': False, 'userUsername': 'Gen', 'userAvatarUrl': 'https://firebasestorage.googleapis.com/v0/b/mantic-markets.appspot.com/o/user-images%2FTodWaddington%2FHiYzxYf-w5.png?alt=media&token=eb5b9c77-b2f2-410e-9bad-76d96081176f', 'betId': 'sNqNcq6GEimCiUxvG5co', 'updatedTime': 1681427738000, 'isApi': None}, {'id': 'c5sBmjitMxruh78UnClJ', 'fees': {'creatorFee': 0, 'platformFee': 0, 'liquidityFee': 0}, 'fills': [], 'amount': 0, 'isAnte': False, 'shares': 0, 'userId': 'cA1JupYR5AR8btHUs2xvkui7jA93', 'outcome': 'YES', 'isFilled': False, 'userName': 'Genzy', 'limitProb': 0.33, 'probAfter': 0.6, 'contractId': 'G6Lj2ccHZyp8aHzwVchb', 'loanAmount': 0, 'probBefore': 0.6, 'visibility': 'public', 'createdTime': 1681153179000, 'isCancelled': False, 'isChallenge': False, 'orderAmount': 300, 'isRedemption': False, 'userUsername': 'Gen', 'userAvatarUrl': 'https://firebasestorage.googleapis.com/v0/b/mantic-markets.appspot.com/o/user-images%2FTodWaddington%2FHiYzxYf-w5.png?alt=media&token=eb5b9c77-b2f2-410e-9bad-76d96081176f', 'betId': 'c5sBmjitMxruh78UnClJ', 'updatedTime': 1681427426000, 'isApi': None}, {'id': 'Zpg0ExYnuUaGqP7NoQPi', 'fees': {'creatorFee': 0, 'platformFee': 0, 'liquidityFee': 0}, 'fills': [], 'amount': 0, 'isAnte': False, 'shares': 0, 'userId': 'cA1JupYR5AR8btHUs2xvkui7jA93', 'outcome': 'YES', 'isFilled': False, 'userName': 'Genzy', 'limitProb': 0.32, 'probAfter': 0.6, 'contractId': 'G6Lj2ccHZyp8aHzwVchb', 'loanAmount': 0, 'probBefore': 0.6, 'visibility': 'public', 'createdTime': 1681153170000, 'isCancelled': False, 'isChallenge': False, 'orderAmount': 310, 'isRedemption': False, 'userUsername': 'Gen', 'userAvatarUrl': 'https://firebasestorage.googleapis.com/v0/b/mantic-markets.appspot.com/o/user-images%2FTodWaddington%2FHiYzxYf-w5.png?alt=media&token=eb5b9c77-b2f2-410e-9bad-76d96081176f', 'betId': 'Zpg0ExYnuUaGqP7NoQPi', 'updatedTime': 1681427386000, 'isApi': None}, {'id': 'CY4lLmprLCXJlAwCddcO', 'fees': {'creatorFee': 0, 'platformFee': 0, 'liquidityFee': 0}, 'fills': [], 'amount': 0, 'isAnte': False, 'shares': 0, 'userId': 'cA1JupYR5AR8btHUs2xvkui7jA93', 'outcome': 'YES', 'isFilled': False, 'userName': 'Genzy', 'limitProb': 0.31, 'probAfter': 0.6, 'contractId': 'G6Lj2ccHZyp8aHzwVchb', 'loanAmount': 0, 'probBefore': 0.6, 'visibility': 'public', 'createdTime': 1681153166000, 'isCancelled': False, 'isChallenge': False, 'orderAmount': 300, 'isRedemption': False, 'userUsername': 'Gen', 'userAvatarUrl': 'https://firebasestorage.googleapis.com/v0/b/mantic-markets.appspot.com/o/user-images%2FTodWaddington%2FHiYzxYf-w5.png?alt=media&token=eb5b9c77-b2f2-410e-9bad-76d96081176f', 'betId': 'CY4lLmprLCXJlAwCddcO', 'updatedTime': 1681426948000, 'isApi': None}, {'id': '9zKJ9RKYt8GukQnrQeML', 'fees': {'creatorFee': 0, 'platformFee': 0, 'liquidityFee': 0}, 'fills': [], 'amount': 0, 'isAnte': False, 'shares': 0, 'userId': 'CsDBNo6f6ZZU0r2TgE2YYu1KRb02', 'outcome': 'YES', 'isFilled': False, 'userName': 'Fry', 'limitProb': 0.4, 'probAfter': 0.6315058735817144, 'contractId': 'G6Lj2ccHZyp8aHzwVchb', 'loanAmount': 0, 'probBefore': 0.6315058735817144, 'visibility': 'public', 'createdTime': 1680311612000, 'isCancelled': False, 'isChallenge': False, 'orderAmount': 10, 'isRedemption': False, 'userUsername': 'Fry', 'userAvatarUrl': 'https://lh3.googleusercontent.com/a/ALm5wu3pynDD9CWC5Bmc8x2R_n0-ANEa75vEvRstmtpr2g=s96-c', 'betId': '9zKJ9RKYt8GukQnrQeML', 'updatedTime': 1681426897000, 'isApi': None}, {'id': 'T0GPahWkEBNU5baccScE', 'fees': {'creatorFee': 0, 'platformFee': 0, 'liquidityFee': 0}, 'fills': [], 'amount': 0, 'isAnte': False, 'shares': 0, 'userId': 'CK5W49YQEGSm6uooLGnOVKD1O052', 'outcome': 'NO', 'isFilled': False, 'userName': 'Middlew', 'limitProb': 0.85, 'probAfter': 0.8, 'contractId': 'G6Lj2ccHZyp8aHzwVchb', 'loanAmount': 0, 'probBefore': 0.8, 'visibility': 'public', 'createdTime': 1675767094000, 'isCancelled': False, 'isChallenge': False, 'orderAmount': 300, 'isRedemption': False, 'userUsername': 'Resolution', 'userAvatarUrl': 'https://firebasestorage.googleapis.com/v0/b/mantic-markets.appspot.com/o/user-images%2FResolution%2FEFETJyP8d5.png?alt=media&token=1fa97c4d-a8f3-42e6-a57d-c89ddcb189aa', 'betId': 'T0GPahWkEBNU5baccScE', 'updatedTime': 1681427250000, 'isApi': None}, {'id': 'S4rChFgXyRg5Gr3gcz7V', 'fees': {'creatorFee': 0, 'platformFee': 0, 'liquidityFee': 0}, 'fills': [], 'amount': 0, 'isAnte': False, 'shares': 0, 'userId': 'toFuvWdYFchnB6mljZSNrUpQAjf1', 'outcome': 'NO', 'isFilled': False, 'userName': 'kottsiek', 'limitProb': 0.85, 'probAfter': 0.8031357253951736, 'contractId': 'G6Lj2ccHZyp8aHzwVchb', 'loanAmount': 0, 'probBefore': 0.8031357253951736, 'visibility': 'public', 'createdTime': 1675538970000, 'isCancelled': False, 'isChallenge': False, 'orderAmount': 10, 'isRedemption': False, 'userUsername': 'kottsiek', 'userAvatarUrl': 'https://firebasestorage.googleapis.com/v0/b/mantic-markets.appspot.com/o/user-images%2Fkottsiek%2FwRnRSugf_h.webp?alt=media&token=1724b924-bad0-4b5f-8484-0109a1811f48', 'betId': 'S4rChFgXyRg5Gr3gcz7V', 'updatedTime': 1681427236000, 'isApi': None}, {'id': '8JyiuAottgHEUXzqxGqi', 'fees': {'creatorFee': 0, 'platformFee': 0, 'liquidityFee': 0}, 'fills': [], 'amount': 0, 'isAnte': False, 'shares': 0, 'userId': 'kydVkcfg7TU4zrrMBRx1Csipwkw2', 'outcome': 'NO', 'isFilled': False, 'userName': 'Catnee', 'limitProb': 0.95, 'probAfter': 0.7352346787019346, 'contractId': 'G6Lj2ccHZyp8aHzwVchb', 'loanAmount': 0, 'probBefore': 0.7352346787019346, 'visibility': 'public', 'createdTime': 1675464126000, 'isCancelled': False, 'isChallenge': False, 'orderAmount': 500, 'isRedemption': False, 'userUsername': 'Catnee', 'userAvatarUrl': 'https://firebasestorage.googleapis.com/v0/b/mantic-markets.appspot.com/o/user-images%2FCatnee%2FQhVajTMDpM.jpg?alt=media&token=2f129c12-729c-4df2-b410-8015486d2017', 'betId': '8JyiuAottgHEUXzqxGqi', 'updatedTime': 1687624591000, 'isApi': None}, {'id': 'b6DAbCMdKP2tRHDoysGK', 'fees': {'creatorFee': 0, 'platformFee': 0, 'liquidityFee': 0}, 'fills': [], 'amount': 0, 'isAnte': False, 'shares': 0, 'userId': 'p8PlK0MGQaPJnDsYvEo6AElTQAq2', 'outcome': 'NO', 'isFilled': False, 'userName': 'Manny', 'limitProb': 0.85, 'probAfter': 0.7, 'contractId': 'G6Lj2ccHZyp8aHzwVchb', 'loanAmount': 0, 'probBefore': 0.7, 'visibility': 'public', 'createdTime': 1674904313000, 'isCancelled': False, 'isChallenge': False, 'orderAmount': 100, 'isRedemption': False, 'userUsername': 'MannyEd', 'userAvatarUrl': 'https://firebasestorage.googleapis.com/v0/b/mantic-markets.appspot.com/o/user-images%2FMannyEdmond%2FevZu9TA5s-.jfif?alt=media&token=7849d5cc-c037-4394-ba49-4cc616f8e0bb', 'betId': 'b6DAbCMdKP2tRHDoysGK', 'updatedTime': 1681427406000, 'isApi': None}, {'id': 'DfgcisBG2oEo0O9RiSuH', 'fees': {'creatorFee': 0, 'platformFee': 0, 'liquidityFee': 0}, 'fills': [], 'amount': 0, 'isAnte': False, 'shares': 0, 'userId': 'vFcLngkRpOfngQf1dzlIwEFO4xg2', 'outcome': 'NO', 'isFilled': False, 'userName': 'goddezz', 'limitProb': 0.85, 'probAfter': 0.79, 'contractId': 'G6Lj2ccHZyp8aHzwVchb', 'loanAmount': 0, 'probBefore': 0.79, 'visibility': 'public', 'createdTime': 1673581026000, 'isCancelled': False, 'isChallenge': False, 'orderAmount': 250, 'isRedemption': False, 'userUsername': 'dggL', 'userAvatarUrl': 'https://firebasestorage.googleapis.com/v0/b/mantic-markets.appspot.com/o/user-images%2FdggL%2FoYaSzndG11.jpeg?alt=media&token=771a587f-2aa7-453a-9b41-4bca43b8b3cd', 'betId': 'DfgcisBG2oEo0O9RiSuH', 'updatedTime': 1681426970000, 'isApi': None}, {'id': 'yP7z8P5h6wjLfnlEQCHU', 'fees': {'creatorFee': 0, 'platformFee': 0, 'liquidityFee': 0}, 'fills': [{'amount': 16.65743549877456, 'shares': 111.0495699918304, 'timestamp': 1673466790049, 'matchedBetId': 'BeagHVdO7ZtIIw52dZFe'}, {'amount': 1.7647058823529416, 'shares': 11.764705882352942, 'timestamp': 1673467007580, 'matchedBetId': 'dWWFMkaY3zETScK95N9L'}, {'amount': 7.304494322303671, 'shares': 48.6966288153578, 'timestamp': 1674176256115, 'matchedBetId': 'iPJavy1MkK6XODnEVjym'}, {'amount': 1.7647058823529416, 'shares': 11.764705882352942, 'timestamp': 1674176440594, 'matchedBetId': '0KSBn3iKqtbugcY6ajOn'}, {'amount': 1.7647058823529416, 'shares': 11.764705882352942, 'timestamp': 1674176806445, 'matchedBetId': '3nv4CjubqLq1v5Ol2qr9'}, {'amount': 1.7647058823529416, 'shares': 11.764705882352942, 'timestamp': 1674178377981, 'matchedBetId': 'sLwfMdutCXxhyxJbfhfm'}, {'amount': 1.7647058823529416, 'shares': 11.764705882352942, 'timestamp': 1674178378631, 'matchedBetId': '1fVM2fI4bf1cQSyZC3uU'}, {'amount': 1.7647058823529416, 'shares': 11.764705882352942, 'timestamp': 1674178379002, 'matchedBetId': 'Z5hyN05ah3psPUhPxX4Y'}, {'amount': 1.7647058823529416, 'shares': 11.764705882352942, 'timestamp': 1674178518282, 'matchedBetId': 'zvdFLsW8y0VP35TDP3Eu'}, {'amount': 1.7647058823529416, 'shares': 11.764705882352942, 'timestamp': 1674178519381, 'matchedBetId': 'kBwnsbQPGkeaDFIzCY4w'}, {'amount': 1.7647058823529416, 'shares': 11.764705882352942, 'timestamp': 1674178527683, 'matchedBetId': 'RLi8epXSWmvxRFxRXXb1'}, {'amount': 1.7647058823529416, 'shares': 11.764705882352942, 'timestamp': 1674178732148, 'matchedBetId': 'K7nw0FhZ2zvfgrTVEtEA'}, {'amount': 1.7647058823529416, 'shares': 11.764705882352942, 'timestamp': 1674178752278, 'matchedBetId': 'erF6COoHuss6PWn7Yg5Q'}, {'amount': 1.7647058823529416, 'shares': 11.764705882352942, 'timestamp': 1674178753211, 'matchedBetId': 'v2cI9hL3vIv2YTIY2HKM'}, {'amount': 1.7647058823529416, 'shares': 11.764705882352942, 'timestamp': 1674178753496, 'matchedBetId': 'oBvStswNBU0cp24ebvQU'}, {'amount': 1.7647058823529416, 'shares': 11.764705882352942, 'timestamp': 1674178755559, 'matchedBetId': 'qJCSyyDb5VpwPSwxiLLL'}, {'amount': 1.7647058823529416, 'shares': 11.764705882352942, 'timestamp': 1674178756549, 'matchedBetId': 'cLClcitcvpVKLR7DnTsc'}, {'amount': 1.7647058823529416, 'shares': 11.764705882352942, 'timestamp': 1674178757176, 'matchedBetId': '8I2lynIkMXhm3NpldgMc'}, {'amount': 1.7647058823529416, 'shares': 11.764705882352942, 'timestamp': 1674178759132, 'matchedBetId': 'MuOlbaNS39oMMCfOuhu6'}, {'amount': 1.7647058823529416, 'shares': 11.764705882352942, 'timestamp': 1674178760777, 'matchedBetId': '7ElqO62pYc6SZrcxjDBD'}, {'amount': 225.2831840888862, 'shares': 1501.8878939259077, 'timestamp': 1676130384402, 'matchedBetId': 'wQDGV1uNzNnVmru1fyZ9'}], 'amount': 281.0098197923174, 'isAnte': False, 'shares': 1873.3987986154486, 'userId': 'yfAGtRl7SOdyeboZRtpPyNwmLqG2', 'outcome': 'NO', 'isFilled': False, 'userName': 'Jacknaut', 'limitProb': 0.85, 'probAfter': 0.7963732449576101, 'contractId': 'G6Lj2ccHZyp8aHzwVchb', 'loanAmount': 0, 'probBefore': 0.7963732449576101, 'visibility': 'public', 'createdTime': 1673283380000, 'isCancelled': False, 'isChallenge': False, 'orderAmount': 300, 'isRedemption': False, 'userUsername': 'Jacknaut', 'userAvatarUrl': 'https://lh3.googleusercontent.com/a/ALm5wu1pV9xN12PzaG-QghkmQYY_cZWVjdX6YoimJSkp=s96-c', 'betId': 'yP7z8P5h6wjLfnlEQCHU', 'updatedTime': 1681427845000, 'isApi': None}, {'id': 'ER1esvWNmVyMPinNfpsq', 'fees': {'creatorFee': 0, 'platformFee': 0, 'liquidityFee': 0}, 'fills': [], 'amount': 0, 'isAnte': False, 'shares': 0, 'userId': 'kydVkcfg7TU4zrrMBRx1Csipwkw2', 'outcome': 'NO', 'isFilled': False, 'userName': 'Catnee', 'limitProb': 0.99, 'probAfter': 0.7695020946328256, 'contractId': 'G6Lj2ccHZyp8aHzwVchb', 'loanAmount': 783.9296128203679, 'probBefore': 0.7695020946328256, 'visibility': 'public', 'createdTime': 1673119272000, 'isCancelled': False, 'isChallenge': False, 'orderAmount': 10, 'isRedemption': False, 'userUsername': 'Catnee', 'userAvatarUrl': 'https://firebasestorage.googleapis.com/v0/b/mantic-markets.appspot.com/o/user-images%2FCatnee%2FQhVajTMDpM.jpg?alt=media&token=2f129c12-729c-4df2-b410-8015486d2017', 'betId': 'ER1esvWNmVyMPinNfpsq', 'updatedTime': 1692775218000, 'isApi': None}, {'id': 'ZQJ5cXpXs54oJcbcDCum', 'fees': {'creatorFee': 0, 'platformFee': 0, 'liquidityFee': 0}, 'fills': [], 'amount': 0, 'isAnte': False, 'shares': 0, 'userId': 'v1JkgffLqQWZCeqfrh48OQJE3Uk1', 'outcome': 'YES', 'isFilled': False, 'userName': 'Orbiter Voltron', 'limitProb': 0.4, 'probAfter': 0.6521036161086043, 'contractId': 'G6Lj2ccHZyp8aHzwVchb', 'loanAmount': 0, 'probBefore': 0.6521036161086043, 'visibility': 'public', 'createdTime': 1672796699000, 'isCancelled': False, 'isChallenge': False, 'orderAmount': 100, 'isRedemption': False, 'userUsername': 'OrbiterVoltron', 'userAvatarUrl': 'https://firebasestorage.googleapis.com/v0/b/mantic-markets.appspot.com/o/user-images%2Fdangdang%2FE5F-QIDg6M.jpg?alt=media&token=ee91efba-89d4-4c68-ab44-f0fd5fdad070', 'betId': 'ZQJ5cXpXs54oJcbcDCum', 'updatedTime': 1681427377000, 'isApi': None}]\n"
     ]
    }
   ],
   "source": [
    "# Will Andrew Tate be found guilty of human (sex) trafficking?\n",
    "# unfilled limit orders\n",
    "\n",
    "url = \"https://api.manifold.markets/v0/bets?contractId=G6Lj2ccHZyp8aHzwVchb&kinds=open-limit\"\n",
    "\n",
    "data = requests.get(url).json()\n",
    "print(data)"
   ]
  }
 ],
 "metadata": {
  "kernelspec": {
   "display_name": "fin",
   "language": "python",
   "name": "python3"
  },
  "language_info": {
   "codemirror_mode": {
    "name": "ipython",
    "version": 3
   },
   "file_extension": ".py",
   "mimetype": "text/x-python",
   "name": "python",
   "nbconvert_exporter": "python",
   "pygments_lexer": "ipython3",
   "version": "3.12.6"
  }
 },
 "nbformat": 4,
 "nbformat_minor": 2
}
