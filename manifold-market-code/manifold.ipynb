{
 "cells": [
  {
   "metadata": {
    "trusted": true
   },
   "cell_type": "code",
   "source": "import math\nfrom typing import Dict, Tuple, Optional\n\nEPSILON = 1e-9\n\n\nclass Fees:\n    # Placeholder for Fees, update according to your requirements\n    pass\n\n\nclass CpmmState:\n    def __init__(self, pool: Dict[str, float], p: float, collected_fees: Fees):\n        self.pool = pool\n        self.p = p\n        self.collected_fees = collected_fees\n\n\ndef get_cpmm_probability(pool: Dict[str, float], p: float) -> float:\n    YES, NO = pool['YES'], pool['NO']\n    return (p * NO) / ((1 - p) * YES + p * NO)\n\n\ndef calculate_cpmm_shares(pool: Dict[str, float], p: float, bet_amount: float, bet_choice: str) -> float:\n    if bet_amount == 0:\n        return 0\n\n    YES, NO = pool['YES'], pool['NO']\n    k = YES ** p * NO ** (1 - p)\n\n    if bet_choice == 'YES':\n        return YES + bet_amount - (k * (bet_amount + NO) ** (p - 1)) ** (1 / p)\n    else:\n        return NO + bet_amount - (k * (bet_amount + YES) ** -p) ** (1 / (1 - p))\n\n\ndef get_cpmm_probability_after_bet_before_fees(state: CpmmState, outcome: str, bet: float) -> float:\n    pool, p = state.pool, state.p\n    shares = calculate_cpmm_shares(pool, p, bet, outcome)\n    YES, NO = pool['YES'], pool['NO']\n\n    if outcome == 'YES':\n        new_Y, new_N = YES - shares + bet, NO + bet\n    else:\n        new_Y, new_N = YES + bet, NO - shares + bet\n\n    return get_cpmm_probability({'YES': new_Y, 'NO': new_N}, p)\n\n\ndef get_cpmm_outcome_probability_after_bet(state: CpmmState, outcome: str, bet: float) -> float:\n    new_pool = calculate_cpmm_purchase(state, bet, outcome)['new_pool']\n    prob = get_cpmm_probability(new_pool, state.p)\n    return 1 - prob if outcome == 'NO' else prob\n\n\ndef get_cpmm_fees(state: CpmmState, bet_amount: float, outcome: str) -> Tuple[float, float, Fees]:\n    fee = 0\n    for _ in range(10):\n        bet_amount_after_fee = bet_amount - fee\n        shares = calculate_cpmm_shares(state.pool, state.p, bet_amount_after_fee, outcome)\n        average_prob = bet_amount_after_fee / shares\n        fee = get_taker_fee(shares, average_prob)\n\n    total_fees = 0 if bet_amount == 0 else fee\n    fees = get_fees_split(total_fees, state.collected_fees)\n\n    remaining_bet = bet_amount - total_fees\n\n    return remaining_bet, total_fees, fees\n\n\ndef calculate_cpmm_purchase(state: CpmmState, bet: float, outcome: str, free_fees: Optional[bool] = False) -> dict:\n    remaining_bet, fees = (bet, Fees()) if free_fees else get_cpmm_fees(state, bet, outcome)\n\n    shares = calculate_cpmm_shares(state.pool, state.p, remaining_bet, outcome)\n    YES, NO = state.pool['YES'], state.pool['NO']\n    liquidity_fee = fees.liquidity_fee if hasattr(fees, 'liquidity_fee') else 0\n\n    if outcome == 'YES':\n        new_Y, new_N = YES - shares + remaining_bet + liquidity_fee, NO + remaining_bet + liquidity_fee\n    else:\n        new_Y, new_N = YES + remaining_bet + liquidity_fee, NO - shares + remaining_bet + liquidity_fee\n\n    new_pool = {'YES': new_Y, 'NO': new_N}\n    liquidity_data = add_cpmm_liquidity(new_pool, state.p, liquidity_fee)\n\n    return {\n        'shares': shares,\n        'new_pool': liquidity_data['new_pool'],\n        'new_p': liquidity_data['new_p'],\n        'fees': fees\n    }\n\n\ndef add_cpmm_liquidity(pool: Dict[str, float], p: float, amount: float) -> dict:\n    prob = get_cpmm_probability(pool, p)\n\n    YES, NO = pool['YES'], pool['NO']\n    numerator = prob * (amount + YES)\n    denominator = amount - NO * (prob - 1) + prob * YES\n    new_p = numerator / denominator\n\n    new_pool = {'YES': YES + amount, 'NO': NO + amount}\n\n    old_liquidity = get_cpmm_liquidity(pool, new_p)\n    new_liquidity = get_cpmm_liquidity(new_pool, new_p)\n    liquidity = new_liquidity - old_liquidity\n\n    return {'new_pool': new_pool, 'liquidity': liquidity, 'new_p': new_p}\n\n\ndef get_cpmm_liquidity(pool: Dict[str, float], p: float) -> float:\n    YES, NO = pool['YES'], pool['NO']\n    return YES ** p * NO ** (1 - p)\n\n\n# Helper methods to calculate fees (these are placeholders)\ndef get_taker_fee(shares: float, average_prob: float) -> float:\n    return shares * 0.01  # Example fee calculation\n\n\ndef get_fees_split(total_fees: float, collected_fees: Fees) -> Fees:\n    # Example of how fees might be split, update this based on actual logic\n    return Fees()\n\n\n# Usage example:\nstate = CpmmState({'YES': 910, 'NO': 1099}, 0.55, Fees())\nbet_amount = 50\noutcome = 'YES'\n\nnew_prob = get_cpmm_probability_after_bet_before_fees(state, outcome, bet_amount)\nprint(f\"New probability after bet before fees: {new_prob}\")\n",
   "execution_count": 2,
   "outputs": [
    {
     "output_type": "stream",
     "text": "New probability after bet before fees: 0.6154489296905195\n",
     "name": "stdout"
    }
   ]
  },
  {
   "metadata": {
    "trusted": true
   },
   "cell_type": "code",
   "source": "class Fees:\n    def __init__(self, liquidityFee=0, takerFee=0, makerFee=0):\n        self.liquidityFee = liquidityFee\n        self.takerFee = takerFee\n        self.makerFee = makerFee\n\n    def get_total_fees(self):\n        return self.liquidityFee + self.takerFee + self.makerFee\n\n\n# Helper function to split fees (you may define your own logic here)\ndef get_fees_split(totalFees, collectedFees):\n    liquidityFee = totalFees * 0.5  # Just an example; tweak as needed\n    takerFee = totalFees * 0.5\n    return Fees(liquidityFee=liquidityFee, takerFee=takerFee)\n\n\n# Placeholder function for taker fees\ndef get_taker_fee(shares, average_prob):\n    return shares * average_prob * 0.01  # Example: 1% fee on the amount of shares\n\nclass CpmmState:\n    def __init__(self, pool, p, collected_fees):\n        self.pool = pool  # A dictionary with 'YES' and 'NO' outcomes\n        self.p = p  # Probability\n        self.collected_fees = collected_fees  # A Fees instance\n\n\ndef get_cpmm_probability(pool, p):\n    yes_shares = pool['YES']\n    no_shares = pool['NO']\n    return (p * no_shares) / ((1 - p) * yes_shares + p * no_shares)\n\n\n# Example calculation for get_cpmm_probability_after_bet_before_fees\ndef get_cpmm_probability_after_bet_before_fees(state, outcome, bet):\n    pool = state.pool\n    p = state.p\n    shares = calculate_cpmm_shares(pool, p, bet, outcome)\n\n    yes_shares = pool['YES']\n    no_shares = pool['NO']\n\n    if outcome == 'YES':\n        new_yes = yes_shares - shares + bet\n        new_no = no_shares + bet\n    else:\n        new_yes = yes_shares + bet\n        new_no = no_shares - shares + bet\n\n    return get_cpmm_probability({'YES': new_yes, 'NO': new_no}, p)\n\n\ndef calculate_cpmm_shares(pool, p, bet_amount, bet_choice):\n    if bet_amount == 0:\n        return 0\n\n    y = pool['YES']\n    n = pool['NO']\n    k = y ** p * n ** (1 - p)\n\n    if bet_choice == 'YES':\n        return y + bet_amount - (k * (bet_amount + n) ** (p - 1)) ** (1 / p)\n    else:\n        return n + bet_amount - (k * (bet_amount + y) ** -p) ** (1 / (1 - p))\n\n\n# Example usage of the fees and bet system\ndef calculate_cpmm_bet_example():\n    # Initial state of the market\n    pool = {'YES': 910, 'NO': 1099}\n    p = 0.55\n    collected_fees = Fees(liquidityFee=0, takerFee=0, makerFee=6.6)\n\n    state = CpmmState(pool, p, collected_fees)\n\n    # A user places a bet\n    bet_amount = 50\n    outcome = 'YES'\n\n    # Calculate new probability before fees\n    new_probability = get_cpmm_probability_after_bet_before_fees(state, outcome, bet_amount)\n    print(f\"New Probability after bet (before fees): {new_probability}\")\n\n    # Example fee calculation\n    fees = get_fees_split(1.5, collected_fees)  # Simulate a total fee of 10 units\n    print(f\"Liquidity Fee: {fees.liquidityFee}, Taker Fee: {fees.takerFee}\")\n\n\n# Run the example calculation\ncalculate_cpmm_bet_example()\n",
   "execution_count": 4,
   "outputs": [
    {
     "output_type": "stream",
     "text": "New Probability after bet (before fees): 0.6154489296905195\nLiquidity Fee: 0.75, Taker Fee: 0.75\n",
     "name": "stdout"
    }
   ]
  }
 ],
 "metadata": {
  "kernelspec": {
   "name": "python3",
   "display_name": "Python 3",
   "language": "python"
  },
  "language_info": {
   "name": "python",
   "version": "3.10.4",
   "mimetype": "text/x-python",
   "codemirror_mode": {
    "name": "ipython",
    "version": 3
   },
   "pygments_lexer": "ipython3",
   "nbconvert_exporter": "python",
   "file_extension": ".py"
  }
 },
 "nbformat": 4,
 "nbformat_minor": 2
}